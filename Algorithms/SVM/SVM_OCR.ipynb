{
 "cells": [
  {
   "cell_type": "code",
   "execution_count": 1,
   "metadata": {},
   "outputs": [],
   "source": [
    "import numpy as np\n",
    "import pandas as pd\n",
    "import matplotlib.pyplot as plt\n",
    "from sklearn.model_selection import train_test_split"
   ]
  },
  {
   "cell_type": "code",
   "execution_count": 2,
   "metadata": {},
   "outputs": [],
   "source": [
    "letters_df = pd.read_csv(\"letterdata.csv\")"
   ]
  },
  {
   "cell_type": "code",
   "execution_count": 3,
   "metadata": {},
   "outputs": [
    {
     "data": {
      "text/html": [
       "<div>\n",
       "<style scoped>\n",
       "    .dataframe tbody tr th:only-of-type {\n",
       "        vertical-align: middle;\n",
       "    }\n",
       "\n",
       "    .dataframe tbody tr th {\n",
       "        vertical-align: top;\n",
       "    }\n",
       "\n",
       "    .dataframe thead th {\n",
       "        text-align: right;\n",
       "    }\n",
       "</style>\n",
       "<table border=\"1\" class=\"dataframe\">\n",
       "  <thead>\n",
       "    <tr style=\"text-align: right;\">\n",
       "      <th></th>\n",
       "      <th>letter</th>\n",
       "      <th>xbox</th>\n",
       "      <th>ybox</th>\n",
       "      <th>width</th>\n",
       "      <th>height</th>\n",
       "      <th>onpix</th>\n",
       "      <th>xbar</th>\n",
       "      <th>ybar</th>\n",
       "      <th>x2bar</th>\n",
       "      <th>y2bar</th>\n",
       "      <th>xybar</th>\n",
       "      <th>x2ybar</th>\n",
       "      <th>xy2bar</th>\n",
       "      <th>xedge</th>\n",
       "      <th>xedgey</th>\n",
       "      <th>yedge</th>\n",
       "      <th>yedgex</th>\n",
       "    </tr>\n",
       "  </thead>\n",
       "  <tbody>\n",
       "    <tr>\n",
       "      <th>0</th>\n",
       "      <td>T</td>\n",
       "      <td>2</td>\n",
       "      <td>8</td>\n",
       "      <td>3</td>\n",
       "      <td>5</td>\n",
       "      <td>1</td>\n",
       "      <td>8</td>\n",
       "      <td>13</td>\n",
       "      <td>0</td>\n",
       "      <td>6</td>\n",
       "      <td>6</td>\n",
       "      <td>10</td>\n",
       "      <td>8</td>\n",
       "      <td>0</td>\n",
       "      <td>8</td>\n",
       "      <td>0</td>\n",
       "      <td>8</td>\n",
       "    </tr>\n",
       "    <tr>\n",
       "      <th>1</th>\n",
       "      <td>I</td>\n",
       "      <td>5</td>\n",
       "      <td>12</td>\n",
       "      <td>3</td>\n",
       "      <td>7</td>\n",
       "      <td>2</td>\n",
       "      <td>10</td>\n",
       "      <td>5</td>\n",
       "      <td>5</td>\n",
       "      <td>4</td>\n",
       "      <td>13</td>\n",
       "      <td>3</td>\n",
       "      <td>9</td>\n",
       "      <td>2</td>\n",
       "      <td>8</td>\n",
       "      <td>4</td>\n",
       "      <td>10</td>\n",
       "    </tr>\n",
       "    <tr>\n",
       "      <th>2</th>\n",
       "      <td>D</td>\n",
       "      <td>4</td>\n",
       "      <td>11</td>\n",
       "      <td>6</td>\n",
       "      <td>8</td>\n",
       "      <td>6</td>\n",
       "      <td>10</td>\n",
       "      <td>6</td>\n",
       "      <td>2</td>\n",
       "      <td>6</td>\n",
       "      <td>10</td>\n",
       "      <td>3</td>\n",
       "      <td>7</td>\n",
       "      <td>3</td>\n",
       "      <td>7</td>\n",
       "      <td>3</td>\n",
       "      <td>9</td>\n",
       "    </tr>\n",
       "    <tr>\n",
       "      <th>3</th>\n",
       "      <td>N</td>\n",
       "      <td>7</td>\n",
       "      <td>11</td>\n",
       "      <td>6</td>\n",
       "      <td>6</td>\n",
       "      <td>3</td>\n",
       "      <td>5</td>\n",
       "      <td>9</td>\n",
       "      <td>4</td>\n",
       "      <td>6</td>\n",
       "      <td>4</td>\n",
       "      <td>4</td>\n",
       "      <td>10</td>\n",
       "      <td>6</td>\n",
       "      <td>10</td>\n",
       "      <td>2</td>\n",
       "      <td>8</td>\n",
       "    </tr>\n",
       "    <tr>\n",
       "      <th>4</th>\n",
       "      <td>G</td>\n",
       "      <td>2</td>\n",
       "      <td>1</td>\n",
       "      <td>3</td>\n",
       "      <td>1</td>\n",
       "      <td>1</td>\n",
       "      <td>8</td>\n",
       "      <td>6</td>\n",
       "      <td>6</td>\n",
       "      <td>6</td>\n",
       "      <td>6</td>\n",
       "      <td>5</td>\n",
       "      <td>9</td>\n",
       "      <td>1</td>\n",
       "      <td>7</td>\n",
       "      <td>5</td>\n",
       "      <td>10</td>\n",
       "    </tr>\n",
       "    <tr>\n",
       "      <th>5</th>\n",
       "      <td>S</td>\n",
       "      <td>4</td>\n",
       "      <td>11</td>\n",
       "      <td>5</td>\n",
       "      <td>8</td>\n",
       "      <td>3</td>\n",
       "      <td>8</td>\n",
       "      <td>8</td>\n",
       "      <td>6</td>\n",
       "      <td>9</td>\n",
       "      <td>5</td>\n",
       "      <td>6</td>\n",
       "      <td>6</td>\n",
       "      <td>0</td>\n",
       "      <td>8</td>\n",
       "      <td>9</td>\n",
       "      <td>7</td>\n",
       "    </tr>\n",
       "    <tr>\n",
       "      <th>6</th>\n",
       "      <td>B</td>\n",
       "      <td>4</td>\n",
       "      <td>2</td>\n",
       "      <td>5</td>\n",
       "      <td>4</td>\n",
       "      <td>4</td>\n",
       "      <td>8</td>\n",
       "      <td>7</td>\n",
       "      <td>6</td>\n",
       "      <td>6</td>\n",
       "      <td>7</td>\n",
       "      <td>6</td>\n",
       "      <td>6</td>\n",
       "      <td>2</td>\n",
       "      <td>8</td>\n",
       "      <td>7</td>\n",
       "      <td>10</td>\n",
       "    </tr>\n",
       "    <tr>\n",
       "      <th>7</th>\n",
       "      <td>A</td>\n",
       "      <td>1</td>\n",
       "      <td>1</td>\n",
       "      <td>3</td>\n",
       "      <td>2</td>\n",
       "      <td>1</td>\n",
       "      <td>8</td>\n",
       "      <td>2</td>\n",
       "      <td>2</td>\n",
       "      <td>2</td>\n",
       "      <td>8</td>\n",
       "      <td>2</td>\n",
       "      <td>8</td>\n",
       "      <td>1</td>\n",
       "      <td>6</td>\n",
       "      <td>2</td>\n",
       "      <td>7</td>\n",
       "    </tr>\n",
       "    <tr>\n",
       "      <th>8</th>\n",
       "      <td>J</td>\n",
       "      <td>2</td>\n",
       "      <td>2</td>\n",
       "      <td>4</td>\n",
       "      <td>4</td>\n",
       "      <td>2</td>\n",
       "      <td>10</td>\n",
       "      <td>6</td>\n",
       "      <td>2</td>\n",
       "      <td>6</td>\n",
       "      <td>12</td>\n",
       "      <td>4</td>\n",
       "      <td>8</td>\n",
       "      <td>1</td>\n",
       "      <td>6</td>\n",
       "      <td>1</td>\n",
       "      <td>7</td>\n",
       "    </tr>\n",
       "    <tr>\n",
       "      <th>9</th>\n",
       "      <td>M</td>\n",
       "      <td>11</td>\n",
       "      <td>15</td>\n",
       "      <td>13</td>\n",
       "      <td>9</td>\n",
       "      <td>7</td>\n",
       "      <td>13</td>\n",
       "      <td>2</td>\n",
       "      <td>6</td>\n",
       "      <td>2</td>\n",
       "      <td>12</td>\n",
       "      <td>1</td>\n",
       "      <td>9</td>\n",
       "      <td>8</td>\n",
       "      <td>1</td>\n",
       "      <td>1</td>\n",
       "      <td>8</td>\n",
       "    </tr>\n",
       "  </tbody>\n",
       "</table>\n",
       "</div>"
      ],
      "text/plain": [
       "  letter  xbox  ybox  width  height  onpix  xbar  ybar  x2bar  y2bar  xybar  \\\n",
       "0      T     2     8      3       5      1     8    13      0      6      6   \n",
       "1      I     5    12      3       7      2    10     5      5      4     13   \n",
       "2      D     4    11      6       8      6    10     6      2      6     10   \n",
       "3      N     7    11      6       6      3     5     9      4      6      4   \n",
       "4      G     2     1      3       1      1     8     6      6      6      6   \n",
       "5      S     4    11      5       8      3     8     8      6      9      5   \n",
       "6      B     4     2      5       4      4     8     7      6      6      7   \n",
       "7      A     1     1      3       2      1     8     2      2      2      8   \n",
       "8      J     2     2      4       4      2    10     6      2      6     12   \n",
       "9      M    11    15     13       9      7    13     2      6      2     12   \n",
       "\n",
       "   x2ybar  xy2bar  xedge  xedgey  yedge  yedgex  \n",
       "0      10       8      0       8      0       8  \n",
       "1       3       9      2       8      4      10  \n",
       "2       3       7      3       7      3       9  \n",
       "3       4      10      6      10      2       8  \n",
       "4       5       9      1       7      5      10  \n",
       "5       6       6      0       8      9       7  \n",
       "6       6       6      2       8      7      10  \n",
       "7       2       8      1       6      2       7  \n",
       "8       4       8      1       6      1       7  \n",
       "9       1       9      8       1      1       8  "
      ]
     },
     "execution_count": 3,
     "metadata": {},
     "output_type": "execute_result"
    }
   ],
   "source": [
    "letters_df.head(10)   # all fields except the target (\"letter\") are numeric. These will be scaled"
   ]
  },
  {
   "cell_type": "code",
   "execution_count": 4,
   "metadata": {},
   "outputs": [
    {
     "name": "stdout",
     "output_type": "stream",
     "text": [
      "<class 'pandas.core.frame.DataFrame'>\n",
      "RangeIndex: 20000 entries, 0 to 19999\n",
      "Data columns (total 17 columns):\n",
      " #   Column  Non-Null Count  Dtype \n",
      "---  ------  --------------  ----- \n",
      " 0   letter  20000 non-null  object\n",
      " 1   xbox    20000 non-null  int64 \n",
      " 2   ybox    20000 non-null  int64 \n",
      " 3   width   20000 non-null  int64 \n",
      " 4   height  20000 non-null  int64 \n",
      " 5   onpix   20000 non-null  int64 \n",
      " 6   xbar    20000 non-null  int64 \n",
      " 7   ybar    20000 non-null  int64 \n",
      " 8   x2bar   20000 non-null  int64 \n",
      " 9   y2bar   20000 non-null  int64 \n",
      " 10  xybar   20000 non-null  int64 \n",
      " 11  x2ybar  20000 non-null  int64 \n",
      " 12  xy2bar  20000 non-null  int64 \n",
      " 13  xedge   20000 non-null  int64 \n",
      " 14  xedgey  20000 non-null  int64 \n",
      " 15  yedge   20000 non-null  int64 \n",
      " 16  yedgex  20000 non-null  int64 \n",
      "dtypes: int64(16), object(1)\n",
      "memory usage: 2.6+ MB\n"
     ]
    }
   ],
   "source": [
    "letters_df.info()"
   ]
  },
  {
   "cell_type": "code",
   "execution_count": 5,
   "metadata": {},
   "outputs": [
    {
     "data": {
      "text/html": [
       "<div>\n",
       "<style scoped>\n",
       "    .dataframe tbody tr th:only-of-type {\n",
       "        vertical-align: middle;\n",
       "    }\n",
       "\n",
       "    .dataframe tbody tr th {\n",
       "        vertical-align: top;\n",
       "    }\n",
       "\n",
       "    .dataframe thead th {\n",
       "        text-align: right;\n",
       "    }\n",
       "</style>\n",
       "<table border=\"1\" class=\"dataframe\">\n",
       "  <thead>\n",
       "    <tr style=\"text-align: right;\">\n",
       "      <th></th>\n",
       "      <th>count</th>\n",
       "      <th>mean</th>\n",
       "      <th>std</th>\n",
       "      <th>min</th>\n",
       "      <th>25%</th>\n",
       "      <th>50%</th>\n",
       "      <th>75%</th>\n",
       "      <th>max</th>\n",
       "    </tr>\n",
       "  </thead>\n",
       "  <tbody>\n",
       "    <tr>\n",
       "      <th>xbox</th>\n",
       "      <td>20000.0</td>\n",
       "      <td>4.02355</td>\n",
       "      <td>1.913212</td>\n",
       "      <td>0.0</td>\n",
       "      <td>3.0</td>\n",
       "      <td>4.0</td>\n",
       "      <td>5.0</td>\n",
       "      <td>15.0</td>\n",
       "    </tr>\n",
       "    <tr>\n",
       "      <th>ybox</th>\n",
       "      <td>20000.0</td>\n",
       "      <td>7.03550</td>\n",
       "      <td>3.304555</td>\n",
       "      <td>0.0</td>\n",
       "      <td>5.0</td>\n",
       "      <td>7.0</td>\n",
       "      <td>9.0</td>\n",
       "      <td>15.0</td>\n",
       "    </tr>\n",
       "    <tr>\n",
       "      <th>width</th>\n",
       "      <td>20000.0</td>\n",
       "      <td>5.12185</td>\n",
       "      <td>2.014573</td>\n",
       "      <td>0.0</td>\n",
       "      <td>4.0</td>\n",
       "      <td>5.0</td>\n",
       "      <td>6.0</td>\n",
       "      <td>15.0</td>\n",
       "    </tr>\n",
       "    <tr>\n",
       "      <th>height</th>\n",
       "      <td>20000.0</td>\n",
       "      <td>5.37245</td>\n",
       "      <td>2.261390</td>\n",
       "      <td>0.0</td>\n",
       "      <td>4.0</td>\n",
       "      <td>6.0</td>\n",
       "      <td>7.0</td>\n",
       "      <td>15.0</td>\n",
       "    </tr>\n",
       "    <tr>\n",
       "      <th>onpix</th>\n",
       "      <td>20000.0</td>\n",
       "      <td>3.50585</td>\n",
       "      <td>2.190458</td>\n",
       "      <td>0.0</td>\n",
       "      <td>2.0</td>\n",
       "      <td>3.0</td>\n",
       "      <td>5.0</td>\n",
       "      <td>15.0</td>\n",
       "    </tr>\n",
       "    <tr>\n",
       "      <th>xbar</th>\n",
       "      <td>20000.0</td>\n",
       "      <td>6.89760</td>\n",
       "      <td>2.026035</td>\n",
       "      <td>0.0</td>\n",
       "      <td>6.0</td>\n",
       "      <td>7.0</td>\n",
       "      <td>8.0</td>\n",
       "      <td>15.0</td>\n",
       "    </tr>\n",
       "    <tr>\n",
       "      <th>ybar</th>\n",
       "      <td>20000.0</td>\n",
       "      <td>7.50045</td>\n",
       "      <td>2.325354</td>\n",
       "      <td>0.0</td>\n",
       "      <td>6.0</td>\n",
       "      <td>7.0</td>\n",
       "      <td>9.0</td>\n",
       "      <td>15.0</td>\n",
       "    </tr>\n",
       "    <tr>\n",
       "      <th>x2bar</th>\n",
       "      <td>20000.0</td>\n",
       "      <td>4.62860</td>\n",
       "      <td>2.699968</td>\n",
       "      <td>0.0</td>\n",
       "      <td>3.0</td>\n",
       "      <td>4.0</td>\n",
       "      <td>6.0</td>\n",
       "      <td>15.0</td>\n",
       "    </tr>\n",
       "    <tr>\n",
       "      <th>y2bar</th>\n",
       "      <td>20000.0</td>\n",
       "      <td>5.17865</td>\n",
       "      <td>2.380823</td>\n",
       "      <td>0.0</td>\n",
       "      <td>4.0</td>\n",
       "      <td>5.0</td>\n",
       "      <td>7.0</td>\n",
       "      <td>15.0</td>\n",
       "    </tr>\n",
       "    <tr>\n",
       "      <th>xybar</th>\n",
       "      <td>20000.0</td>\n",
       "      <td>8.28205</td>\n",
       "      <td>2.488475</td>\n",
       "      <td>0.0</td>\n",
       "      <td>7.0</td>\n",
       "      <td>8.0</td>\n",
       "      <td>10.0</td>\n",
       "      <td>15.0</td>\n",
       "    </tr>\n",
       "    <tr>\n",
       "      <th>x2ybar</th>\n",
       "      <td>20000.0</td>\n",
       "      <td>6.45400</td>\n",
       "      <td>2.631070</td>\n",
       "      <td>0.0</td>\n",
       "      <td>5.0</td>\n",
       "      <td>6.0</td>\n",
       "      <td>8.0</td>\n",
       "      <td>15.0</td>\n",
       "    </tr>\n",
       "    <tr>\n",
       "      <th>xy2bar</th>\n",
       "      <td>20000.0</td>\n",
       "      <td>7.92900</td>\n",
       "      <td>2.080619</td>\n",
       "      <td>0.0</td>\n",
       "      <td>7.0</td>\n",
       "      <td>8.0</td>\n",
       "      <td>9.0</td>\n",
       "      <td>15.0</td>\n",
       "    </tr>\n",
       "    <tr>\n",
       "      <th>xedge</th>\n",
       "      <td>20000.0</td>\n",
       "      <td>3.04610</td>\n",
       "      <td>2.332541</td>\n",
       "      <td>0.0</td>\n",
       "      <td>1.0</td>\n",
       "      <td>3.0</td>\n",
       "      <td>4.0</td>\n",
       "      <td>15.0</td>\n",
       "    </tr>\n",
       "    <tr>\n",
       "      <th>xedgey</th>\n",
       "      <td>20000.0</td>\n",
       "      <td>8.33885</td>\n",
       "      <td>1.546722</td>\n",
       "      <td>0.0</td>\n",
       "      <td>8.0</td>\n",
       "      <td>8.0</td>\n",
       "      <td>9.0</td>\n",
       "      <td>15.0</td>\n",
       "    </tr>\n",
       "    <tr>\n",
       "      <th>yedge</th>\n",
       "      <td>20000.0</td>\n",
       "      <td>3.69175</td>\n",
       "      <td>2.567073</td>\n",
       "      <td>0.0</td>\n",
       "      <td>2.0</td>\n",
       "      <td>3.0</td>\n",
       "      <td>5.0</td>\n",
       "      <td>15.0</td>\n",
       "    </tr>\n",
       "    <tr>\n",
       "      <th>yedgex</th>\n",
       "      <td>20000.0</td>\n",
       "      <td>7.80120</td>\n",
       "      <td>1.617470</td>\n",
       "      <td>0.0</td>\n",
       "      <td>7.0</td>\n",
       "      <td>8.0</td>\n",
       "      <td>9.0</td>\n",
       "      <td>15.0</td>\n",
       "    </tr>\n",
       "  </tbody>\n",
       "</table>\n",
       "</div>"
      ],
      "text/plain": [
       "          count     mean       std  min  25%  50%   75%   max\n",
       "xbox    20000.0  4.02355  1.913212  0.0  3.0  4.0   5.0  15.0\n",
       "ybox    20000.0  7.03550  3.304555  0.0  5.0  7.0   9.0  15.0\n",
       "width   20000.0  5.12185  2.014573  0.0  4.0  5.0   6.0  15.0\n",
       "height  20000.0  5.37245  2.261390  0.0  4.0  6.0   7.0  15.0\n",
       "onpix   20000.0  3.50585  2.190458  0.0  2.0  3.0   5.0  15.0\n",
       "xbar    20000.0  6.89760  2.026035  0.0  6.0  7.0   8.0  15.0\n",
       "ybar    20000.0  7.50045  2.325354  0.0  6.0  7.0   9.0  15.0\n",
       "x2bar   20000.0  4.62860  2.699968  0.0  3.0  4.0   6.0  15.0\n",
       "y2bar   20000.0  5.17865  2.380823  0.0  4.0  5.0   7.0  15.0\n",
       "xybar   20000.0  8.28205  2.488475  0.0  7.0  8.0  10.0  15.0\n",
       "x2ybar  20000.0  6.45400  2.631070  0.0  5.0  6.0   8.0  15.0\n",
       "xy2bar  20000.0  7.92900  2.080619  0.0  7.0  8.0   9.0  15.0\n",
       "xedge   20000.0  3.04610  2.332541  0.0  1.0  3.0   4.0  15.0\n",
       "xedgey  20000.0  8.33885  1.546722  0.0  8.0  8.0   9.0  15.0\n",
       "yedge   20000.0  3.69175  2.567073  0.0  2.0  3.0   5.0  15.0\n",
       "yedgex  20000.0  7.80120  1.617470  0.0  7.0  8.0   9.0  15.0"
      ]
     },
     "execution_count": 5,
     "metadata": {},
     "output_type": "execute_result"
    }
   ],
   "source": [
    "letters_df.describe().transpose()"
   ]
  },
  {
   "cell_type": "code",
   "execution_count": 6,
   "metadata": {},
   "outputs": [
    {
     "data": {
      "text/plain": [
       "(20000, 17)"
      ]
     },
     "execution_count": 6,
     "metadata": {},
     "output_type": "execute_result"
    }
   ],
   "source": [
    "letters_df.shape"
   ]
  },
  {
   "cell_type": "code",
   "execution_count": null,
   "metadata": {},
   "outputs": [],
   "source": [
    "#X,y = np.array(letters_df)[ :, 1:17], np.array(letters_df.letter)[:]   "
   ]
  },
  {
   "cell_type": "code",
   "execution_count": 7,
   "metadata": {},
   "outputs": [],
   "source": [
    "X = np.array(letters_df)[ :, 1:17]\n",
    "y = np.array(letters_df)[:, 0]   \n",
    "#y = np.array(letters_df.letter)[:]   "
   ]
  },
  {
   "cell_type": "code",
   "execution_count": 8,
   "metadata": {},
   "outputs": [
    {
     "data": {
      "text/plain": [
       "(20000, 16)"
      ]
     },
     "execution_count": 8,
     "metadata": {},
     "output_type": "execute_result"
    }
   ],
   "source": [
    "X.shape"
   ]
  },
  {
   "cell_type": "code",
   "execution_count": 9,
   "metadata": {},
   "outputs": [
    {
     "data": {
      "text/plain": [
       "array([[2, 8, 3, ..., 8, 0, 8],\n",
       "       [5, 12, 3, ..., 8, 4, 10],\n",
       "       [4, 11, 6, ..., 7, 3, 9],\n",
       "       ...,\n",
       "       [6, 9, 6, ..., 12, 2, 4],\n",
       "       [2, 3, 4, ..., 9, 5, 8],\n",
       "       [4, 9, 6, ..., 7, 2, 8]], dtype=object)"
      ]
     },
     "execution_count": 9,
     "metadata": {},
     "output_type": "execute_result"
    }
   ],
   "source": [
    "X"
   ]
  },
  {
   "cell_type": "code",
   "execution_count": 10,
   "metadata": {},
   "outputs": [
    {
     "data": {
      "text/plain": [
       "array(['T', 'I', 'D', ..., 'T', 'S', 'A'], dtype=object)"
      ]
     },
     "execution_count": 10,
     "metadata": {},
     "output_type": "execute_result"
    }
   ],
   "source": [
    "y"
   ]
  },
  {
   "cell_type": "code",
   "execution_count": 11,
   "metadata": {},
   "outputs": [],
   "source": [
    "X_train, X_test, y_train, y_test = train_test_split(X, y, test_size=0.30, random_state=1)"
   ]
  },
  {
   "cell_type": "code",
   "execution_count": 12,
   "metadata": {},
   "outputs": [],
   "source": [
    "from sklearn.preprocessing import StandardScaler  \n",
    "scaler = StandardScaler()  \n",
    "scaler.fit(X_train)  \n",
    "X_train = scaler.transform(X_train)  \n",
    "X_test = scaler.transform(X_test) \n"
   ]
  },
  {
   "cell_type": "code",
   "execution_count": 13,
   "metadata": {},
   "outputs": [],
   "source": [
    "#C is complexity of the model. lower C value creates simple hyper surface while higher C creates complex surface\n",
    "\n",
    "from sklearn.svm import SVC  \n",
    "svclassifier = SVC(kernel='linear')  "
   ]
  },
  {
   "cell_type": "code",
   "execution_count": 14,
   "metadata": {},
   "outputs": [
    {
     "data": {
      "text/plain": [
       "SVC(kernel='linear')"
      ]
     },
     "execution_count": 14,
     "metadata": {},
     "output_type": "execute_result"
    }
   ],
   "source": [
    "svclassifier.fit(X_train , y_train)"
   ]
  },
  {
   "cell_type": "code",
   "execution_count": 15,
   "metadata": {},
   "outputs": [],
   "source": [
    "#svclassifier.score(X_train, y_train)\n"
   ]
  },
  {
   "cell_type": "code",
   "execution_count": 16,
   "metadata": {},
   "outputs": [],
   "source": [
    "y_pred = svclassifier.predict(X_test)"
   ]
  },
  {
   "cell_type": "code",
   "execution_count": 17,
   "metadata": {},
   "outputs": [],
   "source": [
    "from sklearn.metrics import classification_report, confusion_matrix, accuracy_score"
   ]
  },
  {
   "cell_type": "code",
   "execution_count": 18,
   "metadata": {},
   "outputs": [
    {
     "name": "stdout",
     "output_type": "stream",
     "text": [
      "0.8443333333333334\n"
     ]
    }
   ],
   "source": [
    "print(accuracy_score(y_test,y_pred))"
   ]
  },
  {
   "cell_type": "code",
   "execution_count": 19,
   "metadata": {},
   "outputs": [
    {
     "name": "stdout",
     "output_type": "stream",
     "text": [
      "[[222   0   0   1   0   0   0   0   0   1   3   0   3   0   0   0   1   1\n",
      "    0   0   0   0   0   0   1   0]\n",
      " [  3 203   0   3   0   0   5   5   2   2   0   0   0   2   0   0   1  10\n",
      "    3   0   0   1   0   2   0   0]\n",
      " [  0   0 200   0   8   1   3   2   0   0   8   1   1   0   0   0   0   0\n",
      "    0   1   2   0   0   0   0   0]\n",
      " [  0  11   0 208   0   0   0   1   0   1   1   0   1   3   2   1   0   2\n",
      "    0   1   0   0   0   0   0   1]\n",
      " [  0   3   2   0 182   0  10   0   0   0   1   0   0   0   0   0   3   1\n",
      "    4   4   0   0   0   2   0   2]\n",
      " [  1   1   0   3   5 183   3   0   3   1   0   0   0   3   0   4   0   0\n",
      "    4   8   0   0   0   0   0   0]\n",
      " [  1   0  13   3   2   2 160   2   0   0   6   4   3   0   7   1   8   3\n",
      "    6   0   0   5   3   0   0   0]\n",
      " [  0   4   4  15   0   2   1 158   0   2  11   0   2   1   8   1   2  15\n",
      "    0   0   1   3   0   1   3   0]\n",
      " [  0   0   1   2   1   5   1   0 171   8   0   0   0   0   1   0   0   0\n",
      "    2   0   0   0   0   5   0   2]\n",
      " [  3   0   0   2   0   2   0   2  10 175   0   0   0   1   0   0   0   0\n",
      "    5   0   0   0   0   0   0   0]\n",
      " [  0   4   1   1   2   0   3   5   0   0 163   2   0   0   0   0   1   8\n",
      "    1   0   0   0   0   6   0   0]\n",
      " [  0   2   4   0   7   0   2   4   0   0   1 177   0   0   0   0   6   0\n",
      "    2   0   0   0   0   2   0   0]\n",
      " [  3   1   0   0   0   0   1   1   0   0   2   0 210   1   0   0   0   3\n",
      "    0   0   2   0   5   0   0   0]\n",
      " [  1   0   0   7   0   0   0   6   0   0   1   0   2 214   1   1   0   2\n",
      "    0   0   1   0   1   0   0   0]\n",
      " [  4   0   6  12   0   0   0  21   0   0   0   0   3   1 189   2   5   4\n",
      "    0   0   3   0   9   0   0   0]\n",
      " [  0   1   0   4   0  22   6   1   0   1   3   0   0   0   2 213   1   1\n",
      "    0   1   0   1   0   0   5   0]\n",
      " [  6   1   1   3   3   0   7   3   0   0   0   2   0   0   3   1 193   0\n",
      "    7   0   0   1   0   0   0   3]\n",
      " [  1   7   0   4   2   0   0   3   0   0  10   1   2   2   0   0   1 189\n",
      "    0   0   0   1   0   1   0   0]\n",
      " [  0  20   1   0  11   3   5   0   4   3   0   1   0   0   1   0   5   4\n",
      "  182   2   0   0   0   0   0  14]\n",
      " [  0   0   2   1   4   2   7   7   0   0   2   0   0   0   0   0   0   2\n",
      "    1 216   0   0   0   0   6   2]\n",
      " [  1   0   0   1   0   0   0   2   0   0   4   0   5   1   1   0   0   0\n",
      "    0   0 223   0   2   0   0   0]\n",
      " [  1   7   0   0   0   0   0   3   0   0   1   0   0   0   0   1   0   0\n",
      "    0   0   0 196   5   0   4   0]\n",
      " [  0   0   0   0   0   0   0   0   0   0   0   0   8   1   1   0   0   1\n",
      "    0   0   0   0 217   0   0   0]\n",
      " [  0   0   0   5   4   2   1   0   4   1   6   3   0   0   1   0   0   0\n",
      "    1   4   1   0   0 203   0   1]\n",
      " [  0   0   0   1   0   4   0   0   0   0   0   0   2   0   0   0   1   0\n",
      "    1   4   1   6   0   5 231   0]\n",
      " [  1   0   0   0   6   0   0   0   0   8   0   0   0   0   0   0   1   0\n",
      "   28   2   0   0   0   0   0 188]]\n"
     ]
    }
   ],
   "source": [
    "print(confusion_matrix(y_test,y_pred))  \n"
   ]
  },
  {
   "cell_type": "code",
   "execution_count": 20,
   "metadata": {},
   "outputs": [
    {
     "name": "stdout",
     "output_type": "stream",
     "text": [
      "              precision    recall  f1-score   support\n",
      "\n",
      "           A       0.90      0.95      0.92       233\n",
      "           B       0.77      0.84      0.80       242\n",
      "           C       0.85      0.88      0.87       227\n",
      "           D       0.75      0.89      0.82       233\n",
      "           E       0.77      0.85      0.81       214\n",
      "           F       0.80      0.84      0.82       219\n",
      "           G       0.74      0.70      0.72       229\n",
      "           H       0.70      0.68      0.69       234\n",
      "           I       0.88      0.86      0.87       199\n",
      "           J       0.86      0.88      0.87       200\n",
      "           K       0.73      0.83      0.78       197\n",
      "           L       0.93      0.86      0.89       207\n",
      "           M       0.87      0.92      0.89       229\n",
      "           N       0.93      0.90      0.92       237\n",
      "           O       0.87      0.73      0.79       259\n",
      "           P       0.95      0.81      0.87       262\n",
      "           Q       0.84      0.82      0.83       234\n",
      "           R       0.77      0.84      0.80       224\n",
      "           S       0.74      0.71      0.72       256\n",
      "           T       0.89      0.86      0.87       252\n",
      "           U       0.95      0.93      0.94       240\n",
      "           V       0.92      0.90      0.91       218\n",
      "           W       0.90      0.95      0.92       228\n",
      "           X       0.89      0.86      0.87       237\n",
      "           Y       0.92      0.90      0.91       256\n",
      "           Z       0.88      0.80      0.84       234\n",
      "\n",
      "    accuracy                           0.84      6000\n",
      "   macro avg       0.85      0.85      0.84      6000\n",
      "weighted avg       0.85      0.84      0.84      6000\n",
      "\n"
     ]
    }
   ],
   "source": [
    "print(classification_report(y_test,y_pred)) "
   ]
  },
  {
   "cell_type": "code",
   "execution_count": 21,
   "metadata": {},
   "outputs": [],
   "source": [
    "#Try other kernels"
   ]
  },
  {
   "cell_type": "code",
   "execution_count": 22,
   "metadata": {},
   "outputs": [
    {
     "data": {
      "text/plain": [
       "SVC(kernel='sigmoid')"
      ]
     },
     "execution_count": 22,
     "metadata": {},
     "output_type": "execute_result"
    }
   ],
   "source": [
    "svclassifier = SVC(kernel='sigmoid')  \n",
    "svclassifier.fit(X_train, y_train)  "
   ]
  },
  {
   "cell_type": "code",
   "execution_count": 23,
   "metadata": {},
   "outputs": [],
   "source": [
    "y_pred = svclassifier.predict(X_test)  "
   ]
  },
  {
   "cell_type": "code",
   "execution_count": 24,
   "metadata": {},
   "outputs": [
    {
     "data": {
      "text/plain": [
       "0.4745"
      ]
     },
     "execution_count": 24,
     "metadata": {},
     "output_type": "execute_result"
    }
   ],
   "source": [
    "accuracy_score(y_test,y_pred)"
   ]
  },
  {
   "cell_type": "code",
   "execution_count": 25,
   "metadata": {},
   "outputs": [
    {
     "name": "stdout",
     "output_type": "stream",
     "text": [
      "[[160   1   0   0   0   0   1   3   0  29   3  11  11   0   8   0   1   0\n",
      "    0   0   0   0   2   0   3   0]\n",
      " [  4 128   0   9   2   3  10  15  25   8   3   2  15   0   0   1   3   5\n",
      "    7   0   0   0   1   0   1   0]\n",
      " [  0   0 128   0  37   8  23   3   0   0  13   5   9   0   0   0   0   0\n",
      "    0   1   0   0   0   0   0   0]\n",
      " [  7  14   0 134   0   1   0  15  10  18   0   2   4   0   8   5   0   1\n",
      "    8   4   0   0   0   1   1   0]\n",
      " [  0   5  27   0 120   2   5   0   7   1   5   9   0   0   0   0   7   1\n",
      "    9   7   2   0   0   3   0   4]\n",
      " [  1  16   0   1   3  97   2   3   1   0   1   0   7   0   0  14   0   0\n",
      "   11  44   0   0   5   0  13   0]\n",
      " [  9   3  53   4  11   1  54   3   0   0   6  20  16   0   3   0  27   2\n",
      "    9   0   0   0   3   4   1   0]\n",
      " [ 10   3   1  16   0   6   3  44  12   7  15   0  39  20  26   2   2   3\n",
      "    0   5   4   4   3   5   4   0]\n",
      " [  1   2   0   4   2  12   0  13 115  20   1   7   1   0   0   4   0   0\n",
      "    3   0   0   0   0   9   0   5]\n",
      " [ 51   2   0   5   1  15   0   1  21  89   0   0   2   0   0   1   1   1\n",
      "    6   1   0   0   0   1   0   2]\n",
      " [  3   5  11   4  13   0   9   6   2   0  90  11  12   0   0   0   4   7\n",
      "    0   2   9   1   4   4   0   0]\n",
      " [ 10   2   2  15   7   0   8  14  15   7   5 103   2   0   1   0   6   0\n",
      "    0   0   0   0   3   6   1   0]\n",
      " [  7   1   1   1   1   0   0  23   0   1  12   0 174   4   2   0   0   0\n",
      "    0   0   0   1   1   0   0   0]\n",
      " [  3   1   0  10   0   0   1  31   2   0   4   3  75  89   9   0   0   0\n",
      "    0   0   0   0   8   0   1   0]\n",
      " [  5   1   0  19   0   2   5  95   2  27   1   4  17   0  66   1   5   3\n",
      "    0   2   3   0   1   0   0   0]\n",
      " [  0   8   0   5   0  65   7   7   5   1   0   1   7   0   3 124   0   0\n",
      "    6   1   0   5   6   0  11   0]\n",
      " [ 15   2   3   2   5   0  10  22   0  13   0   6   5   0   5   0 120   0\n",
      "    7   1   0   5   4   0   9   0]\n",
      " [  6  20   0   7   5   1  11  13  13  10   8   4  26   0   0   0   1  93\n",
      "    0   0   0   0   2   1   3   0]\n",
      " [  7  32   1   2  10  10   2   1  27  20   0  10   0   0   0   0   4   0\n",
      "   69  13   0   1   0   9   7  31]\n",
      " [  4   0   1   0   3  27   9   3   3   0   2   0   7   0   0   2   0   0\n",
      "    8 137   4  11   1   0  29   1]\n",
      " [  9   0   5   0   0   2   0  24   0   0   4   6  30   4   2   0   0   0\n",
      "    0   8 141   1   0   0   4   0]\n",
      " [  0   2   0   0   0  18   0  13   0   0   0   0  13   0   0   0   1   1\n",
      "    0  14   0 128   5   0  23   0]\n",
      " [  4   0   0   0   0   0   0  20   0   0   0   0  50   8   0   0   0   0\n",
      "    0   0   1  32 113   0   0   0]\n",
      " [  4   2   1   4   9   1   1   4  50   4   6  12   0   0   0   0   3   0\n",
      "    7  15   1   0   0  98   4  11]\n",
      " [  2   0   0   0   1  29   0  15   0   0   0   0   7   0   0   3   1   0\n",
      "    8  47   0  36   0   1 106   0]\n",
      " [  1   0   0   1  27   2   0   0   6   6   0   0   0   0   0   0   0   1\n",
      "   43   3   0   0   0  16   1 127]]\n",
      "              precision    recall  f1-score   support\n",
      "\n",
      "           A       0.50      0.69      0.58       233\n",
      "           B       0.51      0.53      0.52       242\n",
      "           C       0.55      0.56      0.56       227\n",
      "           D       0.55      0.58      0.56       233\n",
      "           E       0.47      0.56      0.51       214\n",
      "           F       0.32      0.44      0.37       219\n",
      "           G       0.34      0.24      0.28       229\n",
      "           H       0.11      0.19      0.14       234\n",
      "           I       0.36      0.58      0.45       199\n",
      "           J       0.34      0.45      0.39       200\n",
      "           K       0.50      0.46      0.48       197\n",
      "           L       0.48      0.50      0.49       207\n",
      "           M       0.33      0.76      0.46       229\n",
      "           N       0.71      0.38      0.49       237\n",
      "           O       0.50      0.25      0.34       259\n",
      "           P       0.79      0.47      0.59       262\n",
      "           Q       0.65      0.51      0.57       234\n",
      "           R       0.79      0.42      0.54       224\n",
      "           S       0.34      0.27      0.30       256\n",
      "           T       0.45      0.54      0.49       252\n",
      "           U       0.85      0.59      0.70       240\n",
      "           V       0.57      0.59      0.58       218\n",
      "           W       0.70      0.50      0.58       228\n",
      "           X       0.62      0.41      0.50       237\n",
      "           Y       0.48      0.41      0.44       256\n",
      "           Z       0.70      0.54      0.61       234\n",
      "\n",
      "    accuracy                           0.47      6000\n",
      "   macro avg       0.52      0.48      0.48      6000\n",
      "weighted avg       0.52      0.47      0.48      6000\n",
      "\n"
     ]
    }
   ],
   "source": [
    "\n",
    "print(confusion_matrix(y_test,y_pred))  \n",
    "print(classification_report(y_test,y_pred))  "
   ]
  },
  {
   "cell_type": "code",
   "execution_count": 26,
   "metadata": {},
   "outputs": [],
   "source": [
    "# Try Poly"
   ]
  },
  {
   "cell_type": "code",
   "execution_count": 27,
   "metadata": {},
   "outputs": [
    {
     "data": {
      "text/plain": [
       "SVC(kernel='poly')"
      ]
     },
     "execution_count": 27,
     "metadata": {},
     "output_type": "execute_result"
    }
   ],
   "source": [
    "svclassifier = SVC(kernel='poly', degree=3) \n",
    "svclassifier.fit(X_train, y_train) "
   ]
  },
  {
   "cell_type": "code",
   "execution_count": 28,
   "metadata": {},
   "outputs": [],
   "source": [
    "y_pred = svclassifier.predict(X_test)  "
   ]
  },
  {
   "cell_type": "code",
   "execution_count": 29,
   "metadata": {},
   "outputs": [
    {
     "data": {
      "text/plain": [
       "0.8766666666666667"
      ]
     },
     "execution_count": 29,
     "metadata": {},
     "output_type": "execute_result"
    }
   ],
   "source": [
    "\n",
    "accuracy_score(y_test,y_pred)"
   ]
  },
  {
   "cell_type": "code",
   "execution_count": 30,
   "metadata": {},
   "outputs": [
    {
     "name": "stdout",
     "output_type": "stream",
     "text": [
      "[[221   0   1   0   0   0   0   0   0   0   0   0   1   1   7   0   0   0\n",
      "    0   0   2   0   0   0   0   0]\n",
      " [  1 211   0   4   0   0   1   6   0   0   0   0   0   0  17   0   0   2\n",
      "    0   0   0   0   0   0   0   0]\n",
      " [  0   0 197   0  11   0   5   0   0   0   1   0   0   0  12   0   0   0\n",
      "    0   0   0   0   0   1   0   0]\n",
      " [  0   3   0 209   0   0   0   4   0   0   1   0   0   1  11   0   0   1\n",
      "    0   2   0   0   0   1   0   0]\n",
      " [  0   1   0   0 194   0   8   1   0   0   0   1   0   0   4   0   0   0\n",
      "    0   0   0   0   0   4   0   1]\n",
      " [  0   1   0   1   4 196   0   2   1   0   0   0   0   1   2   2   0   0\n",
      "    2   2   0   0   0   5   0   0]\n",
      " [  0   0   2   0   1   0 190   0   0   0   0   1   1   0  31   0   0   1\n",
      "    0   0   1   0   1   0   0   0]\n",
      " [  0   4   0   7   0   0   2 163   0   0   0   0   0   0  47   0   0   9\n",
      "    0   0   1   0   0   1   0   0]\n",
      " [  0   0   1   0   0   1   0   0 179   5   0   0   0   0   1   0   0   0\n",
      "    0   0   0   0   0  12   0   0]\n",
      " [  0   0   0   0   0   1   0   1   8 177   0   0   0   1   7   0   0   0\n",
      "    0   0   0   0   0   5   0   0]\n",
      " [  0   1   0   0   0   0   2   9   0   0 156   0   0   0   7   0   0   6\n",
      "    0   0   0   0   0  16   0   0]\n",
      " [  0   1   2   0   2   0   3   2   0   0   0 186   0   0   2   0   0   1\n",
      "    0   0   0   0   0   8   0   0]\n",
      " [  2   2   0   0   0   0   0   1   0   0   0   0 216   1   4   0   0   0\n",
      "    0   0   2   0   1   0   0   0]\n",
      " [  0   0   0   6   0   0   0   3   0   0   0   0   1 203  20   0   0   3\n",
      "    0   0   0   0   0   0   1   0]\n",
      " [  0   0   0   5   0   0   2   0   0   0   0   0   0   0 245   0   1   1\n",
      "    0   0   1   0   4   0   0   0]\n",
      " [  0   1   0   3   0  17   6   2   0   0   0   0   0   0   4 227   0   0\n",
      "    0   0   0   0   0   0   2   0]\n",
      " [  0   1   0   0   0   0   3   1   0   1   0   0   0   0  28   0 199   0\n",
      "    0   0   0   0   0   0   0   1]\n",
      " [  0   7   0   0   1   0   2   5   0   0   4   0   0   1  22   0   1 179\n",
      "    0   0   0   0   0   2   0   0]\n",
      " [  2   7   0   0   4   2   0   0   0   0   0   2   0   0   7   0   0   3\n",
      "  218   0   0   0   0  11   0   0]\n",
      " [  0   0   0   1   0   0   2   5   0   0   2   0   0   0  15   0   0   1\n",
      "    0 221   0   0   0   5   0   0]\n",
      " [  0   0   0   0   0   0   0   1   0   1   0   0   2   0  23   0   0   0\n",
      "    0   0 213   0   0   0   0   0]\n",
      " [  2   6   0   0   0   0   0   1   0   0   0   0   0   1   8   0   0   0\n",
      "    0   0   0 200   0   0   0   0]\n",
      " [  0   2   0   0   0   0   1   1   0   0   0   0   1   0   8   0   0   0\n",
      "    0   0   1   0 214   0   0   0]\n",
      " [  0   0   0   4   4   2   0   0   0   0   3   0   0   0  38   0   1   1\n",
      "    1   1   1   1   0 180   0   0]\n",
      " [  0   0   0   0   0   1   0   2   0   0   0   0   0   0   2   0   0   0\n",
      "    4   1   2   0   0   2 242   0]\n",
      " [  0   0   0   0   3   0   0   0   0   0   0   0   0   0   0   0   0   1\n",
      "    4   1   0   0   0   1   0 224]]\n",
      "              precision    recall  f1-score   support\n",
      "\n",
      "           A       0.97      0.95      0.96       233\n",
      "           B       0.85      0.87      0.86       242\n",
      "           C       0.97      0.87      0.92       227\n",
      "           D       0.87      0.90      0.88       233\n",
      "           E       0.87      0.91      0.89       214\n",
      "           F       0.89      0.89      0.89       219\n",
      "           G       0.84      0.83      0.83       229\n",
      "           H       0.78      0.70      0.73       234\n",
      "           I       0.95      0.90      0.93       199\n",
      "           J       0.96      0.89      0.92       200\n",
      "           K       0.93      0.79      0.86       197\n",
      "           L       0.98      0.90      0.94       207\n",
      "           M       0.97      0.94      0.96       229\n",
      "           N       0.97      0.86      0.91       237\n",
      "           O       0.43      0.95      0.59       259\n",
      "           P       0.99      0.87      0.92       262\n",
      "           Q       0.99      0.85      0.91       234\n",
      "           R       0.86      0.80      0.83       224\n",
      "           S       0.95      0.85      0.90       256\n",
      "           T       0.97      0.88      0.92       252\n",
      "           U       0.95      0.89      0.92       240\n",
      "           V       1.00      0.92      0.95       218\n",
      "           W       0.97      0.94      0.96       228\n",
      "           X       0.71      0.76      0.73       237\n",
      "           Y       0.99      0.95      0.97       256\n",
      "           Z       0.99      0.96      0.97       234\n",
      "\n",
      "    accuracy                           0.88      6000\n",
      "   macro avg       0.91      0.88      0.89      6000\n",
      "weighted avg       0.90      0.88      0.89      6000\n",
      "\n"
     ]
    }
   ],
   "source": [
    "print(confusion_matrix(y_test,y_pred))  \n",
    "print(classification_report(y_test,y_pred))  "
   ]
  },
  {
   "cell_type": "code",
   "execution_count": 31,
   "metadata": {},
   "outputs": [],
   "source": [
    "# Try RBF"
   ]
  },
  {
   "cell_type": "code",
   "execution_count": 32,
   "metadata": {},
   "outputs": [
    {
     "data": {
      "text/plain": [
       "SVC()"
      ]
     },
     "execution_count": 32,
     "metadata": {},
     "output_type": "execute_result"
    }
   ],
   "source": [
    "svclassifier = SVC(kernel='rbf' )  \n",
    "svclassifier.fit(X_train, y_train)  "
   ]
  },
  {
   "cell_type": "code",
   "execution_count": 33,
   "metadata": {},
   "outputs": [],
   "source": [
    "y_pred = svclassifier.predict(X_test)  "
   ]
  },
  {
   "cell_type": "code",
   "execution_count": 34,
   "metadata": {},
   "outputs": [
    {
     "data": {
      "text/plain": [
       "0.9373333333333334"
      ]
     },
     "execution_count": 34,
     "metadata": {},
     "output_type": "execute_result"
    }
   ],
   "source": [
    "\n",
    "accuracy_score(y_test,y_pred)"
   ]
  },
  {
   "cell_type": "code",
   "execution_count": 35,
   "metadata": {},
   "outputs": [
    {
     "name": "stdout",
     "output_type": "stream",
     "text": [
      "[[226   0   1   0   0   0   0   0   0   0   1   0   4   0   0   0   0   0\n",
      "    0   0   0   0   0   0   1   0]\n",
      " [  1 227   0   3   1   1   1   0   0   0   0   0   0   0   0   0   0   4\n",
      "    1   0   0   0   0   2   1   0]\n",
      " [  0   0 215   0   7   0   3   0   0   0   0   0   0   0   2   0   0   0\n",
      "    0   0   0   0   0   0   0   0]\n",
      " [  0   4   0 221   0   0   1   3   0   0   0   0   0   1   1   0   0   2\n",
      "    0   0   0   0   0   0   0   0]\n",
      " [  0   1   1   0 203   0   7   0   0   0   0   0   0   0   0   0   0   1\n",
      "    0   0   0   0   0   0   0   1]\n",
      " [  0   1   0   1   3 206   1   1   1   0   0   0   0   1   0   2   0   0\n",
      "    0   2   0   0   0   0   0   0]\n",
      " [  0   0   2   3   1   1 210   0   0   0   1   1   1   0   3   0   1   1\n",
      "    0   0   0   1   3   0   0   0]\n",
      " [  0   9   0   8   0   0   1 191   0   0   4   0   1   1   0   0   1  14\n",
      "    0   0   2   0   0   1   1   0]\n",
      " [  0   0   1   2   0   2   0   0 185   8   0   0   0   0   0   0   0   0\n",
      "    0   0   0   0   0   1   0   0]\n",
      " [  0   0   0   0   0   1   0   2   9 186   0   0   0   1   1   0   0   0\n",
      "    0   0   0   0   0   0   0   0]\n",
      " [  0   1   0   1   1   0   0   1   0   0 186   0   0   0   0   0   0   5\n",
      "    0   0   0   0   0   2   0   0]\n",
      " [  0   1   2   0   6   0   2   1   0   0   0 188   0   0   0   0   0   3\n",
      "    1   0   0   0   0   3   0   0]\n",
      " [  0   4   0   0   0   0   1   1   0   0   0   0 222   0   0   0   0   0\n",
      "    0   0   0   0   1   0   0   0]\n",
      " [  0   2   0   4   0   0   0   3   0   0   0   0   3 221   1   0   0   3\n",
      "    0   0   0   0   0   0   0   0]\n",
      " [  0   0   0   6   0   0   1   0   0   0   0   0   0   0 234   0   6   3\n",
      "    0   0   1   0   8   0   0   0]\n",
      " [  0   1   0   3   2  17   3   3   0   0   0   0   0   0   1 228   2   1\n",
      "    0   0   0   0   0   0   1   0]\n",
      " [  0   0   0   0   0   0   2   1   0   0   0   0   0   0   1   0 229   0\n",
      "    1   0   0   0   0   0   0   0]\n",
      " [  0  10   0   3   0   0   0   1   0   0   6   0   0   1   0   0   0 203\n",
      "    0   0   0   0   0   0   0   0]\n",
      " [  0   6   0   0   3   1   1   0   0   0   0   1   0   0   0   0   0   2\n",
      "  241   0   0   0   0   0   0   1]\n",
      " [  0   0   0   1   0   0   4   4   0   0   2   0   0   0   0   0   0   1\n",
      "    0 238   0   0   0   2   0   0]\n",
      " [  0   0   0   0   0   0   0   1   0   0   1   0   2   0   1   0   0   0\n",
      "    0   0 234   0   1   0   0   0]\n",
      " [  1   7   0   1   0   0   0   1   0   0   0   0   0   1   0   0   0   0\n",
      "    0   0   0 207   0   0   0   0]\n",
      " [  0   2   0   0   0   0   0   1   0   0   0   0   2   1   1   0   0   0\n",
      "    0   0   0   0 221   0   0   0]\n",
      " [  0   0   0   5   2   0   0   0   0   0   5   0   0   0   0   0   1   0\n",
      "    0   1   0   0   0 223   0   0]\n",
      " [  0   0   0   0   0   1   0   0   0   0   0   0   0   0   0   0   0   0\n",
      "    0   1   3   0   0   1 250   0]\n",
      " [  0   0   0   0   2   0   0   0   0   0   0   0   0   0   0   0   1   1\n",
      "    1   0   0   0   0   0   0 229]]\n",
      "              precision    recall  f1-score   support\n",
      "\n",
      "           A       0.99      0.97      0.98       233\n",
      "           B       0.82      0.94      0.88       242\n",
      "           C       0.97      0.95      0.96       227\n",
      "           D       0.84      0.95      0.89       233\n",
      "           E       0.88      0.95      0.91       214\n",
      "           F       0.90      0.94      0.92       219\n",
      "           G       0.88      0.92      0.90       229\n",
      "           H       0.89      0.82      0.85       234\n",
      "           I       0.95      0.93      0.94       199\n",
      "           J       0.96      0.93      0.94       200\n",
      "           K       0.90      0.94      0.92       197\n",
      "           L       0.99      0.91      0.95       207\n",
      "           M       0.94      0.97      0.96       229\n",
      "           N       0.97      0.93      0.95       237\n",
      "           O       0.95      0.90      0.93       259\n",
      "           P       0.99      0.87      0.93       262\n",
      "           Q       0.95      0.98      0.96       234\n",
      "           R       0.83      0.91      0.87       224\n",
      "           S       0.98      0.94      0.96       256\n",
      "           T       0.98      0.94      0.96       252\n",
      "           U       0.97      0.97      0.97       240\n",
      "           V       1.00      0.95      0.97       218\n",
      "           W       0.94      0.97      0.96       228\n",
      "           X       0.95      0.94      0.94       237\n",
      "           Y       0.98      0.98      0.98       256\n",
      "           Z       0.99      0.98      0.98       234\n",
      "\n",
      "    accuracy                           0.94      6000\n",
      "   macro avg       0.94      0.94      0.94      6000\n",
      "weighted avg       0.94      0.94      0.94      6000\n",
      "\n"
     ]
    }
   ],
   "source": [
    "\n",
    "print(confusion_matrix(y_test,y_pred))  \n",
    "print(classification_report(y_test,y_pred))  "
   ]
  },
  {
   "cell_type": "code",
   "execution_count": 36,
   "metadata": {},
   "outputs": [
    {
     "name": "stdout",
     "output_type": "stream",
     "text": [
      "0.9566428571428571\n",
      "0.9373333333333334\n"
     ]
    }
   ],
   "source": [
    "\n",
    "print(svclassifier.score(X_train,y_train))\n",
    "print(svclassifier.score(X_test , y_test))"
   ]
  },
  {
   "cell_type": "code",
   "execution_count": null,
   "metadata": {},
   "outputs": [],
   "source": []
  },
  {
   "cell_type": "code",
   "execution_count": null,
   "metadata": {},
   "outputs": [],
   "source": []
  },
  {
   "cell_type": "code",
   "execution_count": null,
   "metadata": {},
   "outputs": [],
   "source": []
  },
  {
   "cell_type": "markdown",
   "metadata": {},
   "source": [
    "### Note: This Grid search can take very long time to run hence reduced CV to 3"
   ]
  },
  {
   "cell_type": "code",
   "execution_count": 37,
   "metadata": {},
   "outputs": [
    {
     "data": {
      "text/plain": [
       "GridSearchCV(cv=3, estimator=SVC(), param_grid={'C': (0.1, 1, 10, 100)},\n",
       "             return_train_score=True)"
      ]
     },
     "execution_count": 37,
     "metadata": {},
     "output_type": "execute_result"
    }
   ],
   "source": [
    "#With Hyper Parameters Tuning\n",
    "from sklearn.model_selection import GridSearchCV\n",
    "\n",
    "#making the instance\n",
    "model= SVC(kernel='rbf')  \n",
    "\n",
    "# specify number of folds for k-fold CV\n",
    "n_folds = 3\n",
    "\n",
    "# hyper parameters to build the model on\n",
    "params = {'C': (0.1,1,10,100)}\n",
    "\n",
    "#Making models with hyper parameters sets\n",
    "model1 = GridSearchCV(model, param_grid=params, cv=n_folds, return_train_score=True)\n",
    "#Learning\n",
    "model1.fit(X_train, y_train)"
   ]
  },
  {
   "cell_type": "code",
   "execution_count": 38,
   "metadata": {},
   "outputs": [
    {
     "name": "stdout",
     "output_type": "stream",
     "text": [
      "Best Hyper Parameters: {'C': 10}\n",
      "Best Score: 0.9596427240684817\n"
     ]
    }
   ],
   "source": [
    "print(\"Best Hyper Parameters:\",model1.best_params_)\n",
    "print(\"Best Score:\",model1.best_score_)"
   ]
  },
  {
   "cell_type": "code",
   "execution_count": null,
   "metadata": {},
   "outputs": [],
   "source": []
  }
 ],
 "metadata": {
  "kernelspec": {
   "display_name": "Python 3",
   "language": "python",
   "name": "python3"
  },
  "language_info": {
   "codemirror_mode": {
    "name": "ipython",
    "version": 3
   },
   "file_extension": ".py",
   "mimetype": "text/x-python",
   "name": "python",
   "nbconvert_exporter": "python",
   "pygments_lexer": "ipython3",
   "version": "3.9.13"
  }
 },
 "nbformat": 4,
 "nbformat_minor": 2
}
