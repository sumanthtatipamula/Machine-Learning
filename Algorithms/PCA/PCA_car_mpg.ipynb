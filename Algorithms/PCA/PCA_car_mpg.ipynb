{
 "cells": [
  {
   "cell_type": "code",
   "execution_count": 1,
   "metadata": {},
   "outputs": [],
   "source": [
    "import numpy as np   \n",
    "import pandas as pd    \n",
    "import matplotlib.pyplot as plt   \n",
    "import seaborn as sns\n",
    "%matplotlib inline\n",
    "\n",
    "from sklearn.preprocessing import StandardScaler  \n",
    "from sklearn.model_selection import train_test_split\n",
    "from sklearn.linear_model import LinearRegression\n",
    "\n",
    "from sklearn.decomposition import PCA"
   ]
  },
  {
   "cell_type": "code",
   "execution_count": 2,
   "metadata": {},
   "outputs": [
    {
     "name": "stdout",
     "output_type": "stream",
     "text": [
      "<class 'pandas.core.frame.DataFrame'>\n",
      "RangeIndex: 398 entries, 0 to 397\n",
      "Data columns (total 10 columns):\n",
      " #   Column    Non-Null Count  Dtype  \n",
      "---  ------    --------------  -----  \n",
      " 0   mpg       398 non-null    float64\n",
      " 1   cyl       398 non-null    int64  \n",
      " 2   disp      398 non-null    float64\n",
      " 3   hp        398 non-null    object \n",
      " 4   wt        398 non-null    int64  \n",
      " 5   acc       398 non-null    float64\n",
      " 6   yr        398 non-null    int64  \n",
      " 7   origin    398 non-null    int64  \n",
      " 8   car_type  398 non-null    int64  \n",
      " 9   car_name  398 non-null    object \n",
      "dtypes: float64(3), int64(5), object(2)\n",
      "memory usage: 31.2+ KB\n"
     ]
    }
   ],
   "source": [
    "mpg_df = pd.read_csv(\"car-mpg.csv\")  \n",
    "mpg_df.info()"
   ]
  },
  {
   "cell_type": "code",
   "execution_count": 3,
   "metadata": {},
   "outputs": [],
   "source": [
    "mpg_df = mpg_df.drop('car_name', axis=1)\n",
    "mpg_df = mpg_df.replace('?', np.nan)\n",
    "#mpg_df = mpg_df.apply(lambda x: x.fillna(x.median()),axis=0)\n",
    "mpg_df['hp'].fillna(mpg_df['hp'].median(), inplace=True)\n",
    "mpg_df['hp'] = mpg_df['hp'].astype('float64')"
   ]
  },
  {
   "cell_type": "code",
   "execution_count": 4,
   "metadata": {},
   "outputs": [
    {
     "name": "stdout",
     "output_type": "stream",
     "text": [
      "<class 'pandas.core.frame.DataFrame'>\n",
      "RangeIndex: 398 entries, 0 to 397\n",
      "Data columns (total 11 columns):\n",
      " #   Column          Non-Null Count  Dtype  \n",
      "---  ------          --------------  -----  \n",
      " 0   mpg             398 non-null    float64\n",
      " 1   cyl             398 non-null    int64  \n",
      " 2   disp            398 non-null    float64\n",
      " 3   hp              398 non-null    float64\n",
      " 4   wt              398 non-null    int64  \n",
      " 5   acc             398 non-null    float64\n",
      " 6   yr              398 non-null    int64  \n",
      " 7   car_type        398 non-null    int64  \n",
      " 8   origin_america  398 non-null    uint8  \n",
      " 9   origin_asia     398 non-null    uint8  \n",
      " 10  origin_europe   398 non-null    uint8  \n",
      "dtypes: float64(4), int64(4), uint8(3)\n",
      "memory usage: 26.2 KB\n"
     ]
    }
   ],
   "source": [
    "# Note: this is not correct way to prepare dummy variables. See the important notes mentioned in the code below \n",
    "mpg_df['origin'] = mpg_df['origin'].replace({1: 'america', 2: 'europe', 3: 'asia'})\n",
    "mpg_df = pd.get_dummies(mpg_df, columns=['origin'])\n",
    "mpg_df.info()"
   ]
  },
  {
   "cell_type": "markdown",
   "metadata": {},
   "source": [
    "# separate independent and dependent variables"
   ]
  },
  {
   "cell_type": "code",
   "execution_count": 5,
   "metadata": {},
   "outputs": [],
   "source": [
    "# Separate Xs and Y\n",
    "X = mpg_df.drop('mpg', axis=1)\n",
    "\n",
    "# Copy the 'mpg' column alone into the y dataframe. This is the dependent variable\n",
    "y = mpg_df[['mpg']]\n"
   ]
  },
  {
   "cell_type": "code",
   "execution_count": 6,
   "metadata": {},
   "outputs": [],
   "source": [
    "# Train test split\n",
    "X_train, X_test, y_train, y_test = train_test_split(X, y, test_size=0.30, random_state=1)"
   ]
  },
  {
   "cell_type": "code",
   "execution_count": 7,
   "metadata": {},
   "outputs": [],
   "source": [
    "# scale the data\n",
    "scaler = StandardScaler() \n",
    "scaler.fit(X_train)\n",
    "X_train = scaler.transform(X_train)\n",
    "X_test = scaler.transform(X_test)\n",
    "\n",
    "# convert to dataframe\n",
    "X_train = pd.DataFrame(X_train, columns=X.columns)\n",
    "X_test  = pd.DataFrame(X_test , columns=X.columns)"
   ]
  },
  {
   "cell_type": "markdown",
   "metadata": {},
   "source": [
    "# fit a simple linear model"
   ]
  },
  {
   "cell_type": "code",
   "execution_count": 8,
   "metadata": {},
   "outputs": [
    {
     "name": "stdout",
     "output_type": "stream",
     "text": [
      "Intercept:  [23.60071942]\n",
      "The coefficient for cyl is 2.4658549637051106\n",
      "The coefficient for disp is 2.4865323491071822\n",
      "The coefficient for hp is -1.7590552182475436\n",
      "The coefficient for wt is -5.543498107147843\n",
      "The coefficient for acc is 0.11566636397208395\n",
      "The coefficient for yr is 2.929128835283019\n",
      "The coefficient for car_type is 2.9755683516309017\n",
      "The coefficient for origin_america is -0.5809539682908239\n",
      "The coefficient for origin_asia is 0.34798063885651054\n",
      "The coefficient for origin_europe is 0.3755473767896586\n"
     ]
    }
   ],
   "source": [
    "regression_model = LinearRegression()\n",
    "regression_model.fit(X_train, y_train)\n",
    "\n",
    "print(\"Intercept: \", regression_model.intercept_)\n",
    "for idx, col_name in enumerate(X.columns):\n",
    "    print(\"The coefficient for {} is {}\".format(col_name, regression_model.coef_[0][idx]))"
   ]
  },
  {
   "cell_type": "code",
   "execution_count": 9,
   "metadata": {},
   "outputs": [
    {
     "name": "stdout",
     "output_type": "stream",
     "text": [
      "0.8343770256960538\n",
      "0.8513421387780066\n"
     ]
    }
   ],
   "source": [
    "print(regression_model.score(X_train, y_train))\n",
    "print(regression_model.score(X_test, y_test))\n"
   ]
  },
  {
   "cell_type": "markdown",
   "metadata": {},
   "source": [
    "## Iteration 2 - Linear regression \n",
    "### Understand Rule for Dummy Variable Regression\n",
    "### Remove 1 Dummy variable\n"
   ]
  },
  {
   "cell_type": "code",
   "execution_count": 10,
   "metadata": {},
   "outputs": [],
   "source": [
    "\n",
    "#X_train = X_train.drop('origin_europe', axis=1)\n",
    "#X_test = X_test.drop('origin_europe', axis=1)\n",
    "\n",
    "X_train = X_train.drop('origin_america', axis=1)\n",
    "X_test = X_test.drop('origin_america', axis=1)"
   ]
  },
  {
   "cell_type": "code",
   "execution_count": 11,
   "metadata": {},
   "outputs": [
    {
     "name": "stdout",
     "output_type": "stream",
     "text": [
      "Intercept:  [23.60071942]\n",
      "The coefficient for cyl is 2.4658549637051084\n",
      "The coefficient for disp is 2.4865323491071853\n",
      "The coefficient for hp is -1.759055218247548\n",
      "The coefficient for wt is -5.543498107147846\n",
      "The coefficient for acc is 0.11566636397207916\n",
      "The coefficient for yr is 2.92912883528302\n",
      "The coefficient for car_type is 2.9755683516309004\n",
      "The coefficient for origin_asia is 0.8272038690068866\n",
      "The coefficient for origin_europe is 0.8302093396819834\n"
     ]
    }
   ],
   "source": [
    "regression_model = LinearRegression()\n",
    "regression_model.fit(X_train, y_train)\n",
    "\n",
    "print(\"Intercept: \", regression_model.intercept_)\n",
    "for idx, col_name in enumerate(X_train.columns):\n",
    "    print(\"The coefficient for {} is {}\".format(col_name, regression_model.coef_[0][idx]))"
   ]
  },
  {
   "cell_type": "code",
   "execution_count": 12,
   "metadata": {},
   "outputs": [
    {
     "name": "stdout",
     "output_type": "stream",
     "text": [
      "0.8343770256960538\n",
      "0.8513421387780066\n"
     ]
    }
   ],
   "source": [
    "print(regression_model.score(X_train, y_train))\n",
    "print(regression_model.score(X_test, y_test))"
   ]
  },
  {
   "cell_type": "markdown",
   "metadata": {},
   "source": [
    "## IMPORTANT NOTE\n",
    "#### The above results show that one less variable should be  defined for dummy variables\n",
    "#### This can be achieved using following code (drop_first=True)\n",
    "**----------------------------------------------------------------------------------------------**\n",
    "\n",
    "mpg_df = pd.get_dummies(mpg_df, columns=['origin'], drop_first=True)\n",
    "\n",
    "**----------------------------------------------------------------------------------------------**"
   ]
  },
  {
   "cell_type": "markdown",
   "metadata": {},
   "source": [
    "# PCA"
   ]
  },
  {
   "cell_type": "code",
   "execution_count": 13,
   "metadata": {},
   "outputs": [
    {
     "data": {
      "text/plain": [
       "array([0.58373985, 0.14523146, 0.10539213, 0.07724226, 0.04388056,\n",
       "       0.027316  , 0.00729541, 0.00708765, 0.0028147 ])"
      ]
     },
     "execution_count": 13,
     "metadata": {},
     "output_type": "execute_result"
    }
   ],
   "source": [
    "pca = PCA()\n",
    "X_train_proj = pca.fit_transform(X_train)\n",
    "X_test_proj = pca.transform(X_test)\n",
    "explained_variance = pca.explained_variance_ratio_\n",
    "explained_variance"
   ]
  },
  {
   "cell_type": "markdown",
   "metadata": {},
   "source": [
    "### Decide how many compoenents to choose"
   ]
  },
  {
   "cell_type": "code",
   "execution_count": 20,
   "metadata": {},
   "outputs": [
    {
     "data": {
      "text/plain": [
       "array([0.58373985, 0.14523146, 0.10539213, 0.07724226, 0.04388056,\n",
       "       0.027316  , 0.00729541, 0.00708765])"
      ]
     },
     "execution_count": 20,
     "metadata": {},
     "output_type": "execute_result"
    }
   ],
   "source": [
    "pca = PCA(n_components=8)\n",
    "X_train_proj = pca.fit_transform(X_train)\n",
    "X_test_proj = pca.transform(X_test)\n",
    "explained_variance = pca.explained_variance_ratio_\n",
    "explained_variance"
   ]
  },
  {
   "cell_type": "code",
   "execution_count": 21,
   "metadata": {},
   "outputs": [
    {
     "name": "stdout",
     "output_type": "stream",
     "text": [
      "Intercept:  [23.60071942]\n",
      "The coefficient for 0 is -2.877393333401684\n",
      "The coefficient for 1 is -0.9607430919968013\n",
      "The coefficient for 2 is 0.5038016060763665\n",
      "The coefficient for 3 is -2.1219835609352575\n",
      "The coefficient for 4 is -0.010789581022519947\n",
      "The coefficient for 5 is -1.5357757951067734\n",
      "The coefficient for 6 is -5.581870942657736\n",
      "The coefficient for 7 is 3.8519463441109245\n"
     ]
    }
   ],
   "source": [
    "X_train_proj = pd.DataFrame(X_train_proj)\n",
    "regression_model = LinearRegression()\n",
    "regression_model.fit(X_train_proj, y_train)\n",
    "\n",
    "print(\"Intercept: \", regression_model.intercept_)\n",
    "for idx, col_name in enumerate(X_train_proj.columns):\n",
    "    print(\"The coefficient for {} is {}\".format(col_name, regression_model.coef_[0][idx]))"
   ]
  },
  {
   "cell_type": "code",
   "execution_count": 22,
   "metadata": {},
   "outputs": [
    {
     "name": "stdout",
     "output_type": "stream",
     "text": [
      "0.8333159173599629\n",
      "0.8476989039964882\n"
     ]
    }
   ],
   "source": [
    "print(regression_model.score(X_train_proj, y_train))\n",
    "print(regression_model.score(X_test_proj, y_test))\n"
   ]
  },
  {
   "cell_type": "code",
   "execution_count": null,
   "metadata": {},
   "outputs": [],
   "source": []
  }
 ],
 "metadata": {
  "kernelspec": {
   "display_name": "Python 3",
   "language": "python",
   "name": "python3"
  },
  "language_info": {
   "codemirror_mode": {
    "name": "ipython",
    "version": 3
   },
   "file_extension": ".py",
   "mimetype": "text/x-python",
   "name": "python",
   "nbconvert_exporter": "python",
   "pygments_lexer": "ipython3",
   "version": "3.9.13"
  }
 },
 "nbformat": 4,
 "nbformat_minor": 2
}
