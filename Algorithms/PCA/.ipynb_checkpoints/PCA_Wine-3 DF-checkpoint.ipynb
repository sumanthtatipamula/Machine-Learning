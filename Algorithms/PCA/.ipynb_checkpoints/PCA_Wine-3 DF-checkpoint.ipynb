{
 "cells": [
  {
   "cell_type": "code",
   "execution_count": 43,
   "metadata": {},
   "outputs": [],
   "source": [
    "import numpy as np\n",
    "import pandas as pd\n",
    "import matplotlib.pyplot as plt \n",
    "import seaborn as sns\n",
    "%matplotlib inline\n",
    "\n",
    "from sklearn.preprocessing import StandardScaler\n",
    "from sklearn.model_selection import train_test_split\n",
    "\n",
    "from sklearn.decomposition import PCA\n"
   ]
  },
  {
   "cell_type": "code",
   "execution_count": 44,
   "metadata": {},
   "outputs": [],
   "source": [
    "# Read the dataset\n",
    "\n",
    "dataset = pd.read_csv('wine.csv', names = [\"Cultivator\", \"Alchol\", \"Malic_Acid\", \"Ash\", \"Alcalinity_of_Ash\", \"Magnesium\", \"Total_phenols\", \"Falvanoids\", \"Nonflavanoid_phenols\", \"Proanthocyanins\", \"Color_intensity\", \"Hue\", \"OD280\", \"Proline\"])\n"
   ]
  },
  {
   "cell_type": "code",
   "execution_count": 45,
   "metadata": {},
   "outputs": [
    {
     "name": "stdout",
     "output_type": "stream",
     "text": [
      "Shape of the dataset:  (178, 14)\n"
     ]
    },
    {
     "data": {
      "text/html": [
       "<div>\n",
       "<style scoped>\n",
       "    .dataframe tbody tr th:only-of-type {\n",
       "        vertical-align: middle;\n",
       "    }\n",
       "\n",
       "    .dataframe tbody tr th {\n",
       "        vertical-align: top;\n",
       "    }\n",
       "\n",
       "    .dataframe thead th {\n",
       "        text-align: right;\n",
       "    }\n",
       "</style>\n",
       "<table border=\"1\" class=\"dataframe\">\n",
       "  <thead>\n",
       "    <tr style=\"text-align: right;\">\n",
       "      <th></th>\n",
       "      <th>Cultivator</th>\n",
       "      <th>Alchol</th>\n",
       "      <th>Malic_Acid</th>\n",
       "      <th>Ash</th>\n",
       "      <th>Alcalinity_of_Ash</th>\n",
       "      <th>Magnesium</th>\n",
       "      <th>Total_phenols</th>\n",
       "      <th>Falvanoids</th>\n",
       "      <th>Nonflavanoid_phenols</th>\n",
       "      <th>Proanthocyanins</th>\n",
       "      <th>Color_intensity</th>\n",
       "      <th>Hue</th>\n",
       "      <th>OD280</th>\n",
       "      <th>Proline</th>\n",
       "    </tr>\n",
       "  </thead>\n",
       "  <tbody>\n",
       "    <tr>\n",
       "      <th>0</th>\n",
       "      <td>1</td>\n",
       "      <td>14.23</td>\n",
       "      <td>1.71</td>\n",
       "      <td>2.43</td>\n",
       "      <td>15.6</td>\n",
       "      <td>127</td>\n",
       "      <td>2.80</td>\n",
       "      <td>3.06</td>\n",
       "      <td>0.28</td>\n",
       "      <td>2.29</td>\n",
       "      <td>5.64</td>\n",
       "      <td>1.04</td>\n",
       "      <td>3.92</td>\n",
       "      <td>1065</td>\n",
       "    </tr>\n",
       "    <tr>\n",
       "      <th>1</th>\n",
       "      <td>1</td>\n",
       "      <td>13.20</td>\n",
       "      <td>1.78</td>\n",
       "      <td>2.14</td>\n",
       "      <td>11.2</td>\n",
       "      <td>100</td>\n",
       "      <td>2.65</td>\n",
       "      <td>2.76</td>\n",
       "      <td>0.26</td>\n",
       "      <td>1.28</td>\n",
       "      <td>4.38</td>\n",
       "      <td>1.05</td>\n",
       "      <td>3.40</td>\n",
       "      <td>1050</td>\n",
       "    </tr>\n",
       "    <tr>\n",
       "      <th>2</th>\n",
       "      <td>1</td>\n",
       "      <td>13.16</td>\n",
       "      <td>2.36</td>\n",
       "      <td>2.67</td>\n",
       "      <td>18.6</td>\n",
       "      <td>101</td>\n",
       "      <td>2.80</td>\n",
       "      <td>3.24</td>\n",
       "      <td>0.30</td>\n",
       "      <td>2.81</td>\n",
       "      <td>5.68</td>\n",
       "      <td>1.03</td>\n",
       "      <td>3.17</td>\n",
       "      <td>1185</td>\n",
       "    </tr>\n",
       "    <tr>\n",
       "      <th>3</th>\n",
       "      <td>1</td>\n",
       "      <td>14.37</td>\n",
       "      <td>1.95</td>\n",
       "      <td>2.50</td>\n",
       "      <td>16.8</td>\n",
       "      <td>113</td>\n",
       "      <td>3.85</td>\n",
       "      <td>3.49</td>\n",
       "      <td>0.24</td>\n",
       "      <td>2.18</td>\n",
       "      <td>7.80</td>\n",
       "      <td>0.86</td>\n",
       "      <td>3.45</td>\n",
       "      <td>1480</td>\n",
       "    </tr>\n",
       "    <tr>\n",
       "      <th>4</th>\n",
       "      <td>1</td>\n",
       "      <td>13.24</td>\n",
       "      <td>2.59</td>\n",
       "      <td>2.87</td>\n",
       "      <td>21.0</td>\n",
       "      <td>118</td>\n",
       "      <td>2.80</td>\n",
       "      <td>2.69</td>\n",
       "      <td>0.39</td>\n",
       "      <td>1.82</td>\n",
       "      <td>4.32</td>\n",
       "      <td>1.04</td>\n",
       "      <td>2.93</td>\n",
       "      <td>735</td>\n",
       "    </tr>\n",
       "  </tbody>\n",
       "</table>\n",
       "</div>"
      ],
      "text/plain": [
       "   Cultivator  Alchol  Malic_Acid   Ash  Alcalinity_of_Ash  Magnesium  \\\n",
       "0           1   14.23        1.71  2.43               15.6        127   \n",
       "1           1   13.20        1.78  2.14               11.2        100   \n",
       "2           1   13.16        2.36  2.67               18.6        101   \n",
       "3           1   14.37        1.95  2.50               16.8        113   \n",
       "4           1   13.24        2.59  2.87               21.0        118   \n",
       "\n",
       "   Total_phenols  Falvanoids  Nonflavanoid_phenols  Proanthocyanins  \\\n",
       "0           2.80        3.06                  0.28             2.29   \n",
       "1           2.65        2.76                  0.26             1.28   \n",
       "2           2.80        3.24                  0.30             2.81   \n",
       "3           3.85        3.49                  0.24             2.18   \n",
       "4           2.80        2.69                  0.39             1.82   \n",
       "\n",
       "   Color_intensity   Hue  OD280  Proline  \n",
       "0             5.64  1.04   3.92     1065  \n",
       "1             4.38  1.05   3.40     1050  \n",
       "2             5.68  1.03   3.17     1185  \n",
       "3             7.80  0.86   3.45     1480  \n",
       "4             4.32  1.04   2.93      735  "
      ]
     },
     "execution_count": 45,
     "metadata": {},
     "output_type": "execute_result"
    }
   ],
   "source": [
    "print(\"Shape of the dataset: \", dataset.shape)\n",
    "\n",
    "dataset.head(5)"
   ]
  },
  {
   "cell_type": "code",
   "execution_count": 46,
   "metadata": {},
   "outputs": [
    {
     "name": "stdout",
     "output_type": "stream",
     "text": [
      "<class 'pandas.core.frame.DataFrame'>\n",
      "RangeIndex: 178 entries, 0 to 177\n",
      "Data columns (total 14 columns):\n",
      " #   Column                Non-Null Count  Dtype  \n",
      "---  ------                --------------  -----  \n",
      " 0   Cultivator            178 non-null    int64  \n",
      " 1   Alchol                178 non-null    float64\n",
      " 2   Malic_Acid            178 non-null    float64\n",
      " 3   Ash                   178 non-null    float64\n",
      " 4   Alcalinity_of_Ash     178 non-null    float64\n",
      " 5   Magnesium             178 non-null    int64  \n",
      " 6   Total_phenols         178 non-null    float64\n",
      " 7   Falvanoids            178 non-null    float64\n",
      " 8   Nonflavanoid_phenols  178 non-null    float64\n",
      " 9   Proanthocyanins       178 non-null    float64\n",
      " 10  Color_intensity       178 non-null    float64\n",
      " 11  Hue                   178 non-null    float64\n",
      " 12  OD280                 178 non-null    float64\n",
      " 13  Proline               178 non-null    int64  \n",
      "dtypes: float64(11), int64(3)\n",
      "memory usage: 19.6 KB\n"
     ]
    }
   ],
   "source": [
    "dataset.info()\n"
   ]
  },
  {
   "cell_type": "code",
   "execution_count": 47,
   "metadata": {},
   "outputs": [],
   "source": [
    "#sns.pairplot(dataset, diag_kind='kde', hue='Cultivator')"
   ]
  },
  {
   "cell_type": "code",
   "execution_count": 48,
   "metadata": {},
   "outputs": [],
   "source": [
    "X =  dataset.drop(\"Cultivator\", axis=1)\n",
    "y =  dataset.pop(\"Cultivator\")\n",
    "\n",
    "X_train, X_test, y_train, y_test = train_test_split(X, y, test_size=0.35 , random_state=100)"
   ]
  },
  {
   "cell_type": "code",
   "execution_count": 49,
   "metadata": {},
   "outputs": [],
   "source": [
    "# need to perform scaling for PCA\n",
    "sc = StandardScaler()\n",
    "\n",
    "X_train_std = sc.fit_transform(X_train)\n",
    "X_test_std = sc.transform(X_test)"
   ]
  },
  {
   "cell_type": "code",
   "execution_count": 50,
   "metadata": {},
   "outputs": [
    {
     "name": "stdout",
     "output_type": "stream",
     "text": [
      "1.0\n",
      "0.9523809523809523\n"
     ]
    }
   ],
   "source": [
    "# to add\n",
    "from sklearn.linear_model import LogisticRegression\n",
    "model = LogisticRegression(max_iter=200)\n",
    "model.fit(X_train_std, y_train)\n",
    "print(model.score(X_train_std, y_train))\n",
    "print(model.score(X_test_std, y_test))"
   ]
  },
  {
   "cell_type": "code",
   "execution_count": 51,
   "metadata": {},
   "outputs": [
    {
     "name": "stdout",
     "output_type": "stream",
     "text": [
      "Explained variance:\n",
      " [4.64912483 2.74010608 1.51804409 1.14201291 0.64293705 0.54815449\n",
      " 0.49895791 0.37911149 0.27555365 0.2566362  0.20207361 0.17922823\n",
      " 0.08209456]\n",
      "\n",
      "\n",
      "Explained variance Ratio:\n",
      " [0.3545152  0.20894454 0.11575721 0.08708326 0.04902664 0.04179907\n",
      " 0.03804763 0.02890884 0.02101212 0.01956958 0.01540896 0.0136669\n",
      " 0.00626005]\n",
      "\n",
      "\n",
      "Eigen Vectors:\n",
      " [[ 0.19188069 -0.20615371  0.03611931 -0.27531208  0.14727449  0.40001402\n",
      "   0.42470946 -0.33689707  0.31121254 -0.02424212  0.24261458  0.35274177\n",
      "   0.29541977]\n",
      " [-0.43623236 -0.22187147 -0.18545599  0.15447546 -0.3537501   0.00519848\n",
      "   0.08072265 -0.09249554  0.02804291 -0.53200986  0.29331308  0.24487442\n",
      "  -0.36354246]\n",
      " [-0.1472047   0.2394364   0.69331135  0.50478799  0.19496406  0.14337461\n",
      "   0.17631161  0.19573979  0.13273845 -0.09655537  0.0086135   0.17158438\n",
      "  -0.03293182]\n",
      " [-0.070098    0.54205727 -0.24104545  0.00772477 -0.22250122  0.13291704\n",
      "   0.0826444  -0.23009562  0.45329288  0.07484055 -0.49379917  0.12982622\n",
      "  -0.21066981]\n",
      " [-0.415685   -0.14383348 -0.1193587  -0.12820171  0.78811189 -0.07685174\n",
      "  -0.04670151 -0.15133946  0.13325231 -0.13733973 -0.20753743 -0.11121759\n",
      "  -0.17794666]\n",
      " [ 0.28533168  0.42742244  0.08203224 -0.13585563  0.18438898 -0.12222852\n",
      "  -0.1226115  -0.3670169  -0.51395268 -0.36133491  0.01982191  0.32973233\n",
      "  -0.09060446]\n",
      " [ 0.02421465 -0.46185194  0.1767985   0.36721984 -0.13689995 -0.13551425\n",
      "   0.0196126  -0.584639   -0.17453193  0.23042659 -0.39031598  0.06707677\n",
      "  -0.01736453]\n",
      " [-0.14035905 -0.07899895 -0.02831898 -0.16684275 -0.02639001  0.60371056\n",
      "   0.27988211  0.23302449 -0.53052993  0.10813174 -0.3072036   0.00685517\n",
      "  -0.24504537]\n",
      " [ 0.20185631  0.15843011 -0.30550322  0.45062346  0.20635045  0.24765856\n",
      "   0.07483476 -0.23461465 -0.05365671  0.2675678   0.45531857 -0.28442167\n",
      "  -0.3324431 ]\n",
      " [ 0.56223787 -0.28545587 -0.19849784  0.16840429  0.17609029 -0.13933594\n",
      "   0.06488769  0.39094778  0.15659894 -0.11060035 -0.21394962  0.35158763\n",
      "  -0.34788688]\n",
      " [ 0.23538842 -0.09958029  0.47615278 -0.4017658  -0.13022219  0.01123191\n",
      "  -0.01539713 -0.14961091  0.20123915 -0.08472296  0.05310747 -0.38815702\n",
      "  -0.55287693]\n",
      " [-0.24293085  0.04451539  0.09903303 -0.23188122  0.02103614 -0.25128297\n",
      "  -0.04360199  0.04521553 -0.03339397  0.62939478  0.25488956  0.49801701\n",
      "  -0.31249438]\n",
      " [-0.02290133  0.12533458 -0.0567438  -0.03583977 -0.01034413 -0.50402722\n",
      "   0.81688906  0.02581862 -0.12815953 -0.00995215 -0.01139961 -0.2011922\n",
      "   0.00234318]]\n"
     ]
    }
   ],
   "source": [
    "# Apply PCA\n",
    "\n",
    "pca = PCA()\n",
    "\n",
    "X_train_proj = pca.fit_transform(X_train_std)\n",
    "X_test_proj = pca.transform(X_test_std)\n",
    "\n",
    "print(\"Explained variance:\\n\", pca.explained_variance_)\n",
    "print()\n",
    "print()\n",
    "print(\"Explained variance Ratio:\\n\", pca.explained_variance_ratio_)\n",
    "print()\n",
    "print()\n",
    "print(\"Eigen Vectors:\\n\",pca.components_)\n"
   ]
  },
  {
   "cell_type": "code",
   "execution_count": 52,
   "metadata": {},
   "outputs": [
    {
     "name": "stdout",
     "output_type": "stream",
     "text": [
      "(115, 13)\n",
      "(63, 13)\n"
     ]
    }
   ],
   "source": [
    "print(X_train_proj.shape)\n",
    "print(X_test_proj.shape)"
   ]
  },
  {
   "cell_type": "code",
   "execution_count": 53,
   "metadata": {},
   "outputs": [
    {
     "data": {
      "text/plain": [
       "array([0.3545152 , 0.56345975, 0.67921696, 0.76630021, 0.81532685,\n",
       "       0.85712592, 0.89517355, 0.92408239, 0.9450945 , 0.96466409,\n",
       "       0.98007305, 0.99373995, 1.        ])"
      ]
     },
     "execution_count": 53,
     "metadata": {},
     "output_type": "execute_result"
    }
   ],
   "source": [
    "variance_ratio = pca.explained_variance_ratio_\n",
    "np.cumsum(variance_ratio)   #calculate Cumulative sum\n"
   ]
  },
  {
   "cell_type": "code",
   "execution_count": 54,
   "metadata": {},
   "outputs": [
    {
     "name": "stdout",
     "output_type": "stream",
     "text": [
      "Explained variance:\n",
      " [4.64912483 2.74010608 1.51804409 1.14201291 0.64293705 0.54815449\n",
      " 0.49895791 0.37911149 0.27555365 0.2566362 ]\n",
      "\n",
      "\n",
      "Explained variance Ratio:\n",
      " [0.3545152  0.20894454 0.11575721 0.08708326 0.04902664 0.04179907\n",
      " 0.03804763 0.02890884 0.02101212 0.01956958]\n",
      "\n",
      "\n",
      "Eigen Vectors:\n",
      " [[ 0.19188069 -0.20615371  0.03611931 -0.27531208  0.14727449  0.40001402\n",
      "   0.42470946 -0.33689707  0.31121254 -0.02424212  0.24261458  0.35274177\n",
      "   0.29541977]\n",
      " [-0.43623236 -0.22187147 -0.18545599  0.15447546 -0.3537501   0.00519848\n",
      "   0.08072265 -0.09249554  0.02804291 -0.53200986  0.29331308  0.24487442\n",
      "  -0.36354246]\n",
      " [-0.1472047   0.2394364   0.69331135  0.50478799  0.19496406  0.14337461\n",
      "   0.17631161  0.19573979  0.13273845 -0.09655537  0.0086135   0.17158438\n",
      "  -0.03293182]\n",
      " [-0.070098    0.54205727 -0.24104545  0.00772477 -0.22250122  0.13291704\n",
      "   0.0826444  -0.23009562  0.45329288  0.07484055 -0.49379917  0.12982622\n",
      "  -0.21066981]\n",
      " [-0.415685   -0.14383348 -0.1193587  -0.12820171  0.78811189 -0.07685174\n",
      "  -0.04670151 -0.15133946  0.13325231 -0.13733973 -0.20753743 -0.11121759\n",
      "  -0.17794666]\n",
      " [ 0.28533168  0.42742244  0.08203224 -0.13585563  0.18438898 -0.12222852\n",
      "  -0.1226115  -0.3670169  -0.51395268 -0.36133491  0.01982191  0.32973233\n",
      "  -0.09060446]\n",
      " [ 0.02421465 -0.46185194  0.1767985   0.36721984 -0.13689995 -0.13551425\n",
      "   0.0196126  -0.584639   -0.17453193  0.23042659 -0.39031598  0.06707677\n",
      "  -0.01736453]\n",
      " [-0.14035905 -0.07899895 -0.02831898 -0.16684275 -0.02639001  0.60371056\n",
      "   0.27988211  0.23302449 -0.53052993  0.10813174 -0.3072036   0.00685517\n",
      "  -0.24504537]\n",
      " [ 0.20185631  0.15843011 -0.30550322  0.45062346  0.20635045  0.24765856\n",
      "   0.07483476 -0.23461465 -0.05365671  0.2675678   0.45531857 -0.28442167\n",
      "  -0.3324431 ]\n",
      " [ 0.56223787 -0.28545587 -0.19849784  0.16840429  0.17609029 -0.13933594\n",
      "   0.06488769  0.39094778  0.15659894 -0.11060035 -0.21394962  0.35158763\n",
      "  -0.34788688]]\n"
     ]
    }
   ],
   "source": [
    "# Apply PCA \n",
    "# DECISION : To ratain 10 components (to retain at least 95% variance)\n",
    "# ==================================\n",
    "\n",
    "pca = PCA(n_components=10)\n",
    "X_train_proj = pca.fit_transform(X_train_std)\n",
    "X_test_proj = pca.transform(X_test_std)\n",
    "\n",
    "print(\"Explained variance:\\n\", pca.explained_variance_)\n",
    "print()\n",
    "print()\n",
    "print(\"Explained variance Ratio:\\n\", pca.explained_variance_ratio_)\n",
    "print()\n",
    "print()\n",
    "print(\"Eigen Vectors:\\n\",pca.components_)\n"
   ]
  },
  {
   "cell_type": "code",
   "execution_count": 55,
   "metadata": {},
   "outputs": [
    {
     "name": "stdout",
     "output_type": "stream",
     "text": [
      "(115, 10)\n",
      "(63, 10)\n"
     ]
    }
   ],
   "source": [
    "print(X_train_proj.shape)\n",
    "print(X_test_proj.shape)"
   ]
  },
  {
   "cell_type": "code",
   "execution_count": 56,
   "metadata": {},
   "outputs": [
    {
     "name": "stdout",
     "output_type": "stream",
     "text": [
      "1.0\n",
      "0.9523809523809523\n"
     ]
    }
   ],
   "source": [
    "from sklearn.linear_model import LogisticRegression\n",
    "model = LogisticRegression(max_iter=200)\n",
    "model.fit(X_train_proj, y_train)\n",
    "print(model.score(X_train_proj, y_train))\n",
    "print(model.score(X_test_proj, y_test))\n"
   ]
  },
  {
   "cell_type": "code",
   "execution_count": null,
   "metadata": {},
   "outputs": [],
   "source": []
  }
 ],
 "metadata": {
  "kernelspec": {
   "display_name": "Python 3",
   "language": "python",
   "name": "python3"
  },
  "language_info": {
   "codemirror_mode": {
    "name": "ipython",
    "version": 3
   },
   "file_extension": ".py",
   "mimetype": "text/x-python",
   "name": "python",
   "nbconvert_exporter": "python",
   "pygments_lexer": "ipython3",
   "version": "3.9.13"
  }
 },
 "nbformat": 4,
 "nbformat_minor": 2
}
