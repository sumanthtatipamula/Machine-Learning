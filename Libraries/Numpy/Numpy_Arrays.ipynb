{
 "cells": [
  {
   "cell_type": "markdown",
   "id": "2ccde32b",
   "metadata": {},
   "source": [
    "# Numpy Arrays\n",
    "\n",
    "## Methods\n",
    "\n",
    "1. np.array - supports multi dimension\n",
    "    1. np.array([1,2,3]) - for single dimension\n",
    "    2. np.array([[1,2,3], [4,5,6], [7,8,9]]) - for two dimension\n",
    "2. np.arange(start, stop, step) - creates single dimension array with provided arguments\n",
    "3. np.zeros\n",
    "    1. np.zeros(one_dimen_length) - create 1d array with zeros of specified length\n",
    "    2. np.zeros((row, column)) - creates 2-d array\n",
    "    3. np.zeros((.,.,.)) - for multidimentsion\n",
    "4. np.ones\n",
    "    1. np.one(one_dimen_length) - create 1d array with 1's of specified length\n",
    "    2. np.one((row, column)) - create 2-d array\n",
    "5. np.linspace(start, end, count) - inclusive start and end and returns an 1-d array with equally spaced\n",
    "6. np.eye(n) - returns an identity matrix of size n * n\n",
    "7. np.random.rand - values lies between 0 and 1\n",
    "    1. np.random.rand(size) - returns an 1d array with random values of size\n",
    "    2. np.random.rand(row, column) - returns an 2d array with random values of size r * c\n",
    "8. np.random.randn - returns random value from standard normal distribution.\n",
    "    1. np.random.randn(size) - returns 1d\n",
    "    2. np.radon.randn(row, column) - returns 2d\n",
    "9. np.random.randint(start,end, size) - inclusive start exclusive end\n",
    "    1. np.random.randint(start, end, size) - creates an 1d array with random values within given range\n",
    "    2. np.random.randint(start, end, (row, column)) - creates an 2d array with random values within given range\n",
    "10. shape - return shape of numpy array\n",
    "11. dtype - returns types of value in array\n",
    "12. min, max - returns min and max value in the array\n",
    "    1. arr.min()\n",
    "    2. arr.max()\n",
    "13. reshape - to reshape the array("
   ]
  },
  {
   "cell_type": "code",
   "execution_count": 1,
   "id": "6623bec6",
   "metadata": {},
   "outputs": [],
   "source": [
    "my_list = [1,2,3]\n"
   ]
  },
  {
   "cell_type": "code",
   "execution_count": 2,
   "id": "eb2e5a8b",
   "metadata": {},
   "outputs": [
    {
     "data": {
      "text/plain": [
       "[1, 2, 3]"
      ]
     },
     "execution_count": 2,
     "metadata": {},
     "output_type": "execute_result"
    }
   ],
   "source": [
    "my_list\n"
   ]
  },
  {
   "cell_type": "code",
   "execution_count": 4,
   "id": "7dbe20f0",
   "metadata": {},
   "outputs": [],
   "source": [
    "import numpy as np\n",
    "arr = np.array(my_list)"
   ]
  },
  {
   "cell_type": "code",
   "execution_count": 5,
   "id": "902a439e",
   "metadata": {},
   "outputs": [
    {
     "data": {
      "text/plain": [
       "array([1, 2, 3])"
      ]
     },
     "execution_count": 5,
     "metadata": {},
     "output_type": "execute_result"
    }
   ],
   "source": [
    "arr"
   ]
  },
  {
   "cell_type": "code",
   "execution_count": 6,
   "id": "ddb1de47",
   "metadata": {},
   "outputs": [],
   "source": [
    "my_mat = [[1,2,3], [4,5,6], [7,8,9]]\n",
    "multi_arr = np.array(my_mat)"
   ]
  },
  {
   "cell_type": "code",
   "execution_count": 8,
   "id": "b70cb68b",
   "metadata": {},
   "outputs": [
    {
     "data": {
      "text/plain": [
       "array([1, 2, 3])"
      ]
     },
     "execution_count": 8,
     "metadata": {},
     "output_type": "execute_result"
    }
   ],
   "source": [
    "multi_arr[0]"
   ]
  },
  {
   "cell_type": "code",
   "execution_count": 12,
   "id": "018b5d76",
   "metadata": {},
   "outputs": [
    {
     "data": {
      "text/plain": [
       "array([0, 2, 4, 6, 8])"
      ]
     },
     "execution_count": 12,
     "metadata": {},
     "output_type": "execute_result"
    }
   ],
   "source": [
    "np.arange(0, 10, 2)"
   ]
  },
  {
   "cell_type": "code",
   "execution_count": 13,
   "id": "330df04b",
   "metadata": {},
   "outputs": [
    {
     "data": {
      "text/plain": [
       "array([0., 0., 0.])"
      ]
     },
     "execution_count": 13,
     "metadata": {},
     "output_type": "execute_result"
    }
   ],
   "source": [
    "np.zeros(3)"
   ]
  },
  {
   "cell_type": "code",
   "execution_count": 14,
   "id": "1524dfc4",
   "metadata": {},
   "outputs": [
    {
     "data": {
      "text/plain": [
       "array([1.])"
      ]
     },
     "execution_count": 14,
     "metadata": {},
     "output_type": "execute_result"
    }
   ],
   "source": [
    "np.ones(1)"
   ]
  },
  {
   "cell_type": "code",
   "execution_count": 87,
   "id": "0ae62ce5",
   "metadata": {},
   "outputs": [
    {
     "data": {
      "text/plain": [
       "array([[[0., 0., 0., 0.],\n",
       "        [0., 0., 0., 0.],\n",
       "        [0., 0., 0., 0.]],\n",
       "\n",
       "       [[0., 0., 0., 0.],\n",
       "        [0., 0., 0., 0.],\n",
       "        [0., 0., 0., 0.]]])"
      ]
     },
     "execution_count": 87,
     "metadata": {},
     "output_type": "execute_result"
    }
   ],
   "source": [
    "np.zeros((2,3,4))"
   ]
  },
  {
   "cell_type": "code",
   "execution_count": 18,
   "id": "6bb97b73",
   "metadata": {},
   "outputs": [
    {
     "data": {
      "text/plain": [
       "array([0.        , 0.05050505, 0.1010101 , 0.15151515, 0.2020202 ,\n",
       "       0.25252525, 0.3030303 , 0.35353535, 0.4040404 , 0.45454545,\n",
       "       0.50505051, 0.55555556, 0.60606061, 0.65656566, 0.70707071,\n",
       "       0.75757576, 0.80808081, 0.85858586, 0.90909091, 0.95959596,\n",
       "       1.01010101, 1.06060606, 1.11111111, 1.16161616, 1.21212121,\n",
       "       1.26262626, 1.31313131, 1.36363636, 1.41414141, 1.46464646,\n",
       "       1.51515152, 1.56565657, 1.61616162, 1.66666667, 1.71717172,\n",
       "       1.76767677, 1.81818182, 1.86868687, 1.91919192, 1.96969697,\n",
       "       2.02020202, 2.07070707, 2.12121212, 2.17171717, 2.22222222,\n",
       "       2.27272727, 2.32323232, 2.37373737, 2.42424242, 2.47474747,\n",
       "       2.52525253, 2.57575758, 2.62626263, 2.67676768, 2.72727273,\n",
       "       2.77777778, 2.82828283, 2.87878788, 2.92929293, 2.97979798,\n",
       "       3.03030303, 3.08080808, 3.13131313, 3.18181818, 3.23232323,\n",
       "       3.28282828, 3.33333333, 3.38383838, 3.43434343, 3.48484848,\n",
       "       3.53535354, 3.58585859, 3.63636364, 3.68686869, 3.73737374,\n",
       "       3.78787879, 3.83838384, 3.88888889, 3.93939394, 3.98989899,\n",
       "       4.04040404, 4.09090909, 4.14141414, 4.19191919, 4.24242424,\n",
       "       4.29292929, 4.34343434, 4.39393939, 4.44444444, 4.49494949,\n",
       "       4.54545455, 4.5959596 , 4.64646465, 4.6969697 , 4.74747475,\n",
       "       4.7979798 , 4.84848485, 4.8989899 , 4.94949495, 5.        ])"
      ]
     },
     "execution_count": 18,
     "metadata": {},
     "output_type": "execute_result"
    }
   ],
   "source": [
    "np.linspace(0,5,100)"
   ]
  },
  {
   "cell_type": "code",
   "execution_count": 19,
   "id": "e6221c5a",
   "metadata": {},
   "outputs": [
    {
     "data": {
      "text/plain": [
       "array([[1., 0., 0., 0.],\n",
       "       [0., 1., 0., 0.],\n",
       "       [0., 0., 1., 0.],\n",
       "       [0., 0., 0., 1.]])"
      ]
     },
     "execution_count": 19,
     "metadata": {},
     "output_type": "execute_result"
    }
   ],
   "source": [
    "np.eye(4)"
   ]
  },
  {
   "cell_type": "code",
   "execution_count": 20,
   "id": "dc2f7f6f",
   "metadata": {},
   "outputs": [
    {
     "data": {
      "text/plain": [
       "array([0.8756417 , 0.748493  , 0.18245341, 0.6156262 , 0.78525085,\n",
       "       0.8449756 , 0.9279164 , 0.23134252, 0.03023758, 0.65179997])"
      ]
     },
     "execution_count": 20,
     "metadata": {},
     "output_type": "execute_result"
    }
   ],
   "source": [
    "np.random.rand(10)"
   ]
  },
  {
   "cell_type": "code",
   "execution_count": 22,
   "id": "f42c5a07",
   "metadata": {},
   "outputs": [
    {
     "data": {
      "text/plain": [
       "array([[0.33111491, 0.79257118, 0.95714235, 0.4676503 , 0.8551527 ,\n",
       "        0.47763036, 0.22066864, 0.75529386, 0.65604346, 0.57930388],\n",
       "       [0.42766968, 0.62455481, 0.49433066, 0.68235143, 0.99965571,\n",
       "        0.23957676, 0.42102475, 0.92335463, 0.10717534, 0.2828447 ],\n",
       "       [0.65001258, 0.40218977, 0.07624158, 0.00617287, 0.08334187,\n",
       "        0.25536859, 0.33199634, 0.12160928, 0.03914442, 0.28014493],\n",
       "       [0.8460047 , 0.85549036, 0.63776008, 0.04327302, 0.69489502,\n",
       "        0.05639069, 0.00470659, 0.33509378, 0.15441785, 0.86696792],\n",
       "       [0.69583917, 0.20190742, 0.91148761, 0.72860553, 0.86010406,\n",
       "        0.94587362, 0.63635615, 0.10757109, 0.85651592, 0.21971024],\n",
       "       [0.97727464, 0.3396006 , 0.20366848, 0.55646877, 0.91578651,\n",
       "        0.39613384, 0.21569128, 0.54400814, 0.97518113, 0.3731367 ],\n",
       "       [0.28281523, 0.57459594, 0.10099443, 0.92504925, 0.44386768,\n",
       "        0.70256617, 0.02631324, 0.32440094, 0.72006837, 0.90596864],\n",
       "       [0.05003862, 0.92208382, 0.04471964, 0.35567498, 0.40260853,\n",
       "        0.7408188 , 0.73855394, 0.97780651, 0.95348967, 0.1941635 ],\n",
       "       [0.08273339, 0.01853955, 0.5705329 , 0.19081379, 0.30311275,\n",
       "        0.38932449, 0.05996006, 0.18378692, 0.01695376, 0.57630763],\n",
       "       [0.1957797 , 0.67431932, 0.99001175, 0.02188443, 0.66388727,\n",
       "        0.51382172, 0.98539148, 0.62124297, 0.33960454, 0.78101813]])"
      ]
     },
     "execution_count": 22,
     "metadata": {},
     "output_type": "execute_result"
    }
   ],
   "source": [
    "np.random.rand(10,10)"
   ]
  },
  {
   "cell_type": "code",
   "execution_count": 24,
   "id": "ed3c5360",
   "metadata": {},
   "outputs": [
    {
     "data": {
      "text/plain": [
       "array([[-1.03904892,  0.00358764,  0.13296189,  0.09748717],\n",
       "       [-0.16169392, -0.88733258,  2.06143331,  0.63695925],\n",
       "       [-0.54211292, -0.02280844,  0.84610848,  0.23280366],\n",
       "       [-0.76573924, -0.1141886 ,  0.97535587, -0.53044665]])"
      ]
     },
     "execution_count": 24,
     "metadata": {},
     "output_type": "execute_result"
    }
   ],
   "source": [
    "np.random.randn(4,4)"
   ]
  },
  {
   "cell_type": "code",
   "execution_count": 63,
   "id": "9c4a3ddb",
   "metadata": {},
   "outputs": [
    {
     "data": {
      "text/plain": [
       "array([55, 95, 44, 67, 71, 11, 25, 49, 76, 34])"
      ]
     },
     "execution_count": 63,
     "metadata": {},
     "output_type": "execute_result"
    }
   ],
   "source": [
    "np.random.randint(1, 100, 10)"
   ]
  },
  {
   "cell_type": "code",
   "execution_count": 64,
   "id": "f9adc0b3",
   "metadata": {},
   "outputs": [],
   "source": [
    "arr = np.arange(25)"
   ]
  },
  {
   "cell_type": "code",
   "execution_count": 65,
   "id": "bc45889f",
   "metadata": {},
   "outputs": [
    {
     "data": {
      "text/plain": [
       "array([ 0,  1,  2,  3,  4,  5,  6,  7,  8,  9, 10, 11, 12, 13, 14, 15, 16,\n",
       "       17, 18, 19, 20, 21, 22, 23, 24])"
      ]
     },
     "execution_count": 65,
     "metadata": {},
     "output_type": "execute_result"
    }
   ],
   "source": [
    "arr"
   ]
  },
  {
   "cell_type": "code",
   "execution_count": 89,
   "id": "0c5bd2f9",
   "metadata": {},
   "outputs": [],
   "source": [
    "randarr = np.random.randint(0,50,(10, 10))"
   ]
  },
  {
   "cell_type": "code",
   "execution_count": 90,
   "id": "cf252dee",
   "metadata": {},
   "outputs": [
    {
     "data": {
      "text/plain": [
       "array([[29, 18, 23, 43, 33, 12,  9, 18,  8,  8],\n",
       "       [13, 13, 21, 35, 24, 30, 33,  7, 48, 13],\n",
       "       [46, 39, 29, 15, 23, 11, 14,  2, 33, 47],\n",
       "       [ 6,  2, 28, 48, 22, 17, 11, 29, 19, 16],\n",
       "       [11,  8, 36, 27, 41, 36,  5, 45, 30, 38],\n",
       "       [45, 14, 42, 17,  9, 31, 26, 29, 44, 47],\n",
       "       [18, 35, 43, 33, 31, 36, 39, 45, 40, 42],\n",
       "       [ 4,  8,  4, 24, 12, 43, 32, 29, 22, 34],\n",
       "       [ 5, 45, 15,  3, 30, 23, 44,  2,  6, 35],\n",
       "       [47, 38, 31, 30, 25, 27,  9, 11, 32,  0]])"
      ]
     },
     "execution_count": 90,
     "metadata": {},
     "output_type": "execute_result"
    }
   ],
   "source": [
    "randarr"
   ]
  },
  {
   "cell_type": "code",
   "execution_count": 68,
   "id": "d9e0c02a",
   "metadata": {},
   "outputs": [
    {
     "data": {
      "text/plain": [
       "array([[ 0,  1,  2,  3,  4],\n",
       "       [ 5,  6,  7,  8,  9],\n",
       "       [10, 11, 12, 13, 14],\n",
       "       [15, 16, 17, 18, 19],\n",
       "       [20, 21, 22, 23, 24]])"
      ]
     },
     "execution_count": 68,
     "metadata": {},
     "output_type": "execute_result"
    }
   ],
   "source": [
    "arr.reshape(5,5)"
   ]
  },
  {
   "cell_type": "code",
   "execution_count": 69,
   "id": "046d7d9c",
   "metadata": {},
   "outputs": [
    {
     "data": {
      "text/plain": [
       "array([ 0,  1,  2,  3,  4,  5,  6,  7,  8,  9, 10, 11, 12, 13, 14, 15, 16,\n",
       "       17, 18, 19, 20, 21, 22, 23, 24])"
      ]
     },
     "execution_count": 69,
     "metadata": {},
     "output_type": "execute_result"
    }
   ],
   "source": [
    "arr"
   ]
  },
  {
   "cell_type": "code",
   "execution_count": 74,
   "id": "504e34d9",
   "metadata": {},
   "outputs": [
    {
     "data": {
      "text/plain": [
       "array([[ 0,  1,  2,  3,  4],\n",
       "       [ 5,  6,  7,  8,  9],\n",
       "       [10, 11, 12, 13, 14],\n",
       "       [15, 16, 17, 18, 19],\n",
       "       [20, 21, 22, 23, 24]])"
      ]
     },
     "execution_count": 74,
     "metadata": {},
     "output_type": "execute_result"
    }
   ],
   "source": [
    "arr.reshape(5,5)"
   ]
  },
  {
   "cell_type": "code",
   "execution_count": 77,
   "id": "621f9f9b",
   "metadata": {},
   "outputs": [
    {
     "data": {
      "text/plain": [
       "3"
      ]
     },
     "execution_count": 77,
     "metadata": {},
     "output_type": "execute_result"
    }
   ],
   "source": [
    "randarr.min()\n"
   ]
  },
  {
   "cell_type": "code",
   "execution_count": 78,
   "id": "693544c7",
   "metadata": {},
   "outputs": [
    {
     "data": {
      "text/plain": [
       "3"
      ]
     },
     "execution_count": 78,
     "metadata": {},
     "output_type": "execute_result"
    }
   ],
   "source": [
    "randarr.argmax()"
   ]
  },
  {
   "cell_type": "code",
   "execution_count": 79,
   "id": "287fb820",
   "metadata": {},
   "outputs": [
    {
     "data": {
      "text/plain": [
       "7"
      ]
     },
     "execution_count": 79,
     "metadata": {},
     "output_type": "execute_result"
    }
   ],
   "source": [
    "randarr.argmin()"
   ]
  },
  {
   "cell_type": "code",
   "execution_count": 81,
   "id": "50d457b4",
   "metadata": {},
   "outputs": [
    {
     "data": {
      "text/plain": [
       "(25,)"
      ]
     },
     "execution_count": 81,
     "metadata": {},
     "output_type": "execute_result"
    }
   ],
   "source": [
    "arr.shape\n"
   ]
  },
  {
   "cell_type": "code",
   "execution_count": 82,
   "id": "d4dca3d5",
   "metadata": {},
   "outputs": [],
   "source": [
    "reshaped_arr =  arr.reshape(5,5)"
   ]
  },
  {
   "cell_type": "code",
   "execution_count": 92,
   "id": "bdd29eb6",
   "metadata": {},
   "outputs": [
    {
     "data": {
      "text/plain": [
       "0"
      ]
     },
     "execution_count": 92,
     "metadata": {},
     "output_type": "execute_result"
    }
   ],
   "source": [
    "reshaped_arr.shape"
   ]
  },
  {
   "cell_type": "code",
   "execution_count": 91,
   "id": "4391b6d4",
   "metadata": {},
   "outputs": [
    {
     "data": {
      "text/plain": [
       "dtype('int32')"
      ]
     },
     "execution_count": 91,
     "metadata": {},
     "output_type": "execute_result"
    }
   ],
   "source": [
    "reshaped_arr.dtype"
   ]
  },
  {
   "cell_type": "code",
   "execution_count": 85,
   "id": "1ddc0d2f",
   "metadata": {},
   "outputs": [],
   "source": [
    "from numpy.random import rand\n"
   ]
  },
  {
   "cell_type": "code",
   "execution_count": 86,
   "id": "6f709755",
   "metadata": {},
   "outputs": [
    {
     "data": {
      "text/plain": [
       "array([0.03860647, 0.93808959, 0.88914288, 0.89170504, 0.30258085,\n",
       "       0.60036379, 0.37815444, 0.20528218, 0.84449874, 0.51053516])"
      ]
     },
     "execution_count": 86,
     "metadata": {},
     "output_type": "execute_result"
    }
   ],
   "source": [
    "rand(10)"
   ]
  },
  {
   "cell_type": "code",
   "execution_count": null,
   "id": "88de6177",
   "metadata": {},
   "outputs": [],
   "source": []
  }
 ],
 "metadata": {
  "kernelspec": {
   "display_name": "Python 3",
   "language": "python",
   "name": "python3"
  },
  "language_info": {
   "codemirror_mode": {
    "name": "ipython",
    "version": 3
   },
   "file_extension": ".py",
   "mimetype": "text/x-python",
   "name": "python",
   "nbconvert_exporter": "python",
   "pygments_lexer": "ipython3",
   "version": "3.9.13"
  }
 },
 "nbformat": 4,
 "nbformat_minor": 5
}
