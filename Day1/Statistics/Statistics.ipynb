{
 "cells": [
  {
   "cell_type": "code",
   "execution_count": 1,
   "metadata": {},
   "outputs": [],
   "source": [
    "import numpy as np\n",
    "import pandas as pd\n",
    "import matplotlib.pyplot as plt"
   ]
  },
  {
   "cell_type": "code",
   "execution_count": 2,
   "metadata": {},
   "outputs": [],
   "source": [
    "# read dataset \n",
    "store_df = pd.read_csv('Store.csv')\n"
   ]
  },
  {
   "cell_type": "code",
   "execution_count": 3,
   "metadata": {},
   "outputs": [
    {
     "data": {
      "text/html": [
       "<div>\n",
       "<style scoped>\n",
       "    .dataframe tbody tr th:only-of-type {\n",
       "        vertical-align: middle;\n",
       "    }\n",
       "\n",
       "    .dataframe tbody tr th {\n",
       "        vertical-align: top;\n",
       "    }\n",
       "\n",
       "    .dataframe thead th {\n",
       "        text-align: right;\n",
       "    }\n",
       "</style>\n",
       "<table border=\"1\" class=\"dataframe\">\n",
       "  <thead>\n",
       "    <tr style=\"text-align: right;\">\n",
       "      <th></th>\n",
       "      <th>Observation</th>\n",
       "      <th>NearMetro</th>\n",
       "      <th>StoreArea</th>\n",
       "      <th>ItemsAvailable</th>\n",
       "      <th>Parking</th>\n",
       "      <th>CouponCategory</th>\n",
       "      <th>StoreSales</th>\n",
       "    </tr>\n",
       "  </thead>\n",
       "  <tbody>\n",
       "    <tr>\n",
       "      <th>0</th>\n",
       "      <td>1</td>\n",
       "      <td>N</td>\n",
       "      <td>1015</td>\n",
       "      <td>910</td>\n",
       "      <td>NP</td>\n",
       "      <td>CAT C</td>\n",
       "      <td>31180</td>\n",
       "    </tr>\n",
       "    <tr>\n",
       "      <th>1</th>\n",
       "      <td>2</td>\n",
       "      <td>N</td>\n",
       "      <td>1909</td>\n",
       "      <td>940</td>\n",
       "      <td>NP</td>\n",
       "      <td>CAT C</td>\n",
       "      <td>31940</td>\n",
       "    </tr>\n",
       "    <tr>\n",
       "      <th>2</th>\n",
       "      <td>3</td>\n",
       "      <td>N</td>\n",
       "      <td>909</td>\n",
       "      <td>980</td>\n",
       "      <td>OP</td>\n",
       "      <td>CAT C</td>\n",
       "      <td>33739</td>\n",
       "    </tr>\n",
       "    <tr>\n",
       "      <th>3</th>\n",
       "      <td>4</td>\n",
       "      <td>Y</td>\n",
       "      <td>1108</td>\n",
       "      <td>970</td>\n",
       "      <td>OP</td>\n",
       "      <td>CAT C</td>\n",
       "      <td>35748</td>\n",
       "    </tr>\n",
       "    <tr>\n",
       "      <th>4</th>\n",
       "      <td>5</td>\n",
       "      <td>Y</td>\n",
       "      <td>954</td>\n",
       "      <td>1010</td>\n",
       "      <td>NP</td>\n",
       "      <td>CAT C</td>\n",
       "      <td>38530</td>\n",
       "    </tr>\n",
       "    <tr>\n",
       "      <th>5</th>\n",
       "      <td>6</td>\n",
       "      <td>N</td>\n",
       "      <td>1165</td>\n",
       "      <td>990</td>\n",
       "      <td>NP</td>\n",
       "      <td>CAT A</td>\n",
       "      <td>38620</td>\n",
       "    </tr>\n",
       "    <tr>\n",
       "      <th>6</th>\n",
       "      <td>7</td>\n",
       "      <td>N</td>\n",
       "      <td>1232</td>\n",
       "      <td>1110</td>\n",
       "      <td>OP</td>\n",
       "      <td>CAT C</td>\n",
       "      <td>39473</td>\n",
       "    </tr>\n",
       "    <tr>\n",
       "      <th>7</th>\n",
       "      <td>8</td>\n",
       "      <td>Y</td>\n",
       "      <td>1207</td>\n",
       "      <td>1109</td>\n",
       "      <td>OP</td>\n",
       "      <td>CAT A</td>\n",
       "      <td>39615</td>\n",
       "    </tr>\n",
       "    <tr>\n",
       "      <th>8</th>\n",
       "      <td>9</td>\n",
       "      <td>N</td>\n",
       "      <td>1026</td>\n",
       "      <td>1142</td>\n",
       "      <td>OP</td>\n",
       "      <td>CAT C</td>\n",
       "      <td>40174</td>\n",
       "    </tr>\n",
       "    <tr>\n",
       "      <th>9</th>\n",
       "      <td>10</td>\n",
       "      <td>N</td>\n",
       "      <td>1286</td>\n",
       "      <td>1128</td>\n",
       "      <td>OP</td>\n",
       "      <td>CAT C</td>\n",
       "      <td>40955</td>\n",
       "    </tr>\n",
       "  </tbody>\n",
       "</table>\n",
       "</div>"
      ],
      "text/plain": [
       "   Observation NearMetro  StoreArea  ItemsAvailable Parking CouponCategory  \\\n",
       "0            1         N       1015             910      NP          CAT C   \n",
       "1            2         N       1909             940      NP          CAT C   \n",
       "2            3         N        909             980      OP          CAT C   \n",
       "3            4         Y       1108             970      OP          CAT C   \n",
       "4            5         Y        954            1010      NP          CAT C   \n",
       "5            6         N       1165             990      NP          CAT A   \n",
       "6            7         N       1232            1110      OP          CAT C   \n",
       "7            8         Y       1207            1109      OP          CAT A   \n",
       "8            9         N       1026            1142      OP          CAT C   \n",
       "9           10         N       1286            1128      OP          CAT C   \n",
       "\n",
       "   StoreSales  \n",
       "0       31180  \n",
       "1       31940  \n",
       "2       33739  \n",
       "3       35748  \n",
       "4       38530  \n",
       "5       38620  \n",
       "6       39473  \n",
       "7       39615  \n",
       "8       40174  \n",
       "9       40955  "
      ]
     },
     "execution_count": 3,
     "metadata": {},
     "output_type": "execute_result"
    }
   ],
   "source": [
    "store_df.head(10)"
   ]
  },
  {
   "cell_type": "code",
   "execution_count": 4,
   "metadata": {},
   "outputs": [
    {
     "name": "stdout",
     "output_type": "stream",
     "text": [
      "<class 'pandas.core.frame.DataFrame'>\n",
      "RangeIndex: 140 entries, 0 to 139\n",
      "Data columns (total 7 columns):\n",
      " #   Column          Non-Null Count  Dtype \n",
      "---  ------          --------------  ----- \n",
      " 0   Observation     140 non-null    int64 \n",
      " 1   NearMetro       140 non-null    object\n",
      " 2   StoreArea       140 non-null    int64 \n",
      " 3   ItemsAvailable  140 non-null    int64 \n",
      " 4   Parking         140 non-null    object\n",
      " 5   CouponCategory  140 non-null    object\n",
      " 6   StoreSales      140 non-null    int64 \n",
      "dtypes: int64(4), object(3)\n",
      "memory usage: 7.8+ KB\n"
     ]
    }
   ],
   "source": [
    "store_df.info()"
   ]
  },
  {
   "cell_type": "code",
   "execution_count": 5,
   "metadata": {},
   "outputs": [
    {
     "data": {
      "text/html": [
       "<div>\n",
       "<style scoped>\n",
       "    .dataframe tbody tr th:only-of-type {\n",
       "        vertical-align: middle;\n",
       "    }\n",
       "\n",
       "    .dataframe tbody tr th {\n",
       "        vertical-align: top;\n",
       "    }\n",
       "\n",
       "    .dataframe thead th {\n",
       "        text-align: right;\n",
       "    }\n",
       "</style>\n",
       "<table border=\"1\" class=\"dataframe\">\n",
       "  <thead>\n",
       "    <tr style=\"text-align: right;\">\n",
       "      <th></th>\n",
       "      <th>Observation</th>\n",
       "      <th>StoreArea</th>\n",
       "      <th>ItemsAvailable</th>\n",
       "      <th>StoreSales</th>\n",
       "    </tr>\n",
       "  </thead>\n",
       "  <tbody>\n",
       "    <tr>\n",
       "      <th>count</th>\n",
       "      <td>140.0000</td>\n",
       "      <td>140.000000</td>\n",
       "      <td>140.000000</td>\n",
       "      <td>140.000000</td>\n",
       "    </tr>\n",
       "    <tr>\n",
       "      <th>mean</th>\n",
       "      <td>70.5000</td>\n",
       "      <td>1441.857143</td>\n",
       "      <td>1658.771429</td>\n",
       "      <td>66376.742857</td>\n",
       "    </tr>\n",
       "    <tr>\n",
       "      <th>std</th>\n",
       "      <td>40.5586</td>\n",
       "      <td>247.389146</td>\n",
       "      <td>332.824112</td>\n",
       "      <td>15693.194915</td>\n",
       "    </tr>\n",
       "    <tr>\n",
       "      <th>min</th>\n",
       "      <td>1.0000</td>\n",
       "      <td>896.000000</td>\n",
       "      <td>910.000000</td>\n",
       "      <td>31180.000000</td>\n",
       "    </tr>\n",
       "    <tr>\n",
       "      <th>25%</th>\n",
       "      <td>35.7500</td>\n",
       "      <td>1245.750000</td>\n",
       "      <td>1432.250000</td>\n",
       "      <td>54699.750000</td>\n",
       "    </tr>\n",
       "    <tr>\n",
       "      <th>50%</th>\n",
       "      <td>70.5000</td>\n",
       "      <td>1444.000000</td>\n",
       "      <td>1706.500000</td>\n",
       "      <td>68053.500000</td>\n",
       "    </tr>\n",
       "    <tr>\n",
       "      <th>75%</th>\n",
       "      <td>105.2500</td>\n",
       "      <td>1607.250000</td>\n",
       "      <td>1896.250000</td>\n",
       "      <td>78914.250000</td>\n",
       "    </tr>\n",
       "    <tr>\n",
       "      <th>max</th>\n",
       "      <td>140.0000</td>\n",
       "      <td>2026.000000</td>\n",
       "      <td>2374.000000</td>\n",
       "      <td>98100.000000</td>\n",
       "    </tr>\n",
       "  </tbody>\n",
       "</table>\n",
       "</div>"
      ],
      "text/plain": [
       "       Observation    StoreArea  ItemsAvailable    StoreSales\n",
       "count     140.0000   140.000000      140.000000    140.000000\n",
       "mean       70.5000  1441.857143     1658.771429  66376.742857\n",
       "std        40.5586   247.389146      332.824112  15693.194915\n",
       "min         1.0000   896.000000      910.000000  31180.000000\n",
       "25%        35.7500  1245.750000     1432.250000  54699.750000\n",
       "50%        70.5000  1444.000000     1706.500000  68053.500000\n",
       "75%       105.2500  1607.250000     1896.250000  78914.250000\n",
       "max       140.0000  2026.000000     2374.000000  98100.000000"
      ]
     },
     "execution_count": 5,
     "metadata": {},
     "output_type": "execute_result"
    }
   ],
   "source": [
    "store_df.describe()"
   ]
  },
  {
   "cell_type": "code",
   "execution_count": 6,
   "metadata": {},
   "outputs": [
    {
     "data": {
      "text/plain": [
       "0    CAT A\n",
       "Name: CouponCategory, dtype: object"
      ]
     },
     "execution_count": 6,
     "metadata": {},
     "output_type": "execute_result"
    }
   ],
   "source": [
    "store_df[\"CouponCategory\"].mode()"
   ]
  },
  {
   "cell_type": "code",
   "execution_count": 7,
   "metadata": {},
   "outputs": [
    {
     "data": {
      "text/plain": [
       "CAT A    86\n",
       "CAT C    51\n",
       "CAT B     3\n",
       "Name: CouponCategory, dtype: int64"
      ]
     },
     "execution_count": 7,
     "metadata": {},
     "output_type": "execute_result"
    }
   ],
   "source": [
    "store_df['CouponCategory'].value_counts()"
   ]
  },
  {
   "cell_type": "code",
   "execution_count": 8,
   "metadata": {},
   "outputs": [
    {
     "data": {
      "text/plain": [
       "N    87\n",
       "Y    53\n",
       "Name: NearMetro, dtype: int64"
      ]
     },
     "execution_count": 8,
     "metadata": {},
     "output_type": "execute_result"
    }
   ],
   "source": [
    "store_df['NearMetro'].value_counts()"
   ]
  },
  {
   "cell_type": "code",
   "execution_count": 11,
   "metadata": {},
   "outputs": [
    {
     "data": {
      "text/plain": [
       "OP    90\n",
       "NP    50\n",
       "Name: Parking, dtype: int64"
      ]
     },
     "execution_count": 11,
     "metadata": {},
     "output_type": "execute_result"
    }
   ],
   "source": [
    "store_df['Parking'].value_counts()"
   ]
  },
  {
   "cell_type": "code",
   "execution_count": 9,
   "metadata": {},
   "outputs": [
    {
     "data": {
      "image/png": "[encoded data removed]",
      "text/plain": [
       "<Figure size 640x480 with 1 Axes>"
      ]
     },
     "metadata": {},
     "output_type": "display_data"
    }
   ],
   "source": [
    "#plt.hist(StoreSalesData, bins = 20, color = \"green\") \n",
    "plt.hist(store_df['StoreSales'], bins = 10, color = \"green\") \n",
    "\n",
    "plt.show()"
   ]
  },
  {
   "cell_type": "code",
   "execution_count": 10,
   "metadata": {},
   "outputs": [
    {
     "data": {
      "image/png": "[encoded data removed]",
      "text/plain": [
       "<Figure size 640x480 with 1 Axes>"
      ]
     },
     "metadata": {},
     "output_type": "display_data"
    }
   ],
   "source": [
    "plt.boxplot(store_df['StoreSales'])\n",
    "plt.show()"
   ]
  },
  {
   "cell_type": "code",
   "execution_count": null,
   "metadata": {},
   "outputs": [],
   "source": [
    "plt.boxplot(store_df['StoreArea'])\n",
    "plt.show()"
   ]
  },
  {
   "cell_type": "code",
   "execution_count": null,
   "metadata": {},
   "outputs": [],
   "source": [
    "store_df.boxplot(\"StoreSales\",by='Parking')\n",
    "plt.show()"
   ]
  },
  {
   "cell_type": "code",
   "execution_count": null,
   "metadata": {},
   "outputs": [],
   "source": [
    "store_df.boxplot(\"StoreSales\",by='CouponCategory')\n",
    "plt.show()"
   ]
  },
  {
   "cell_type": "code",
   "execution_count": null,
   "metadata": {},
   "outputs": [],
   "source": [
    "store_df.boxplot(\"StoreSales\",by='NearMetro')\n",
    "plt.show()"
   ]
  },
  {
   "cell_type": "code",
   "execution_count": null,
   "metadata": {},
   "outputs": [],
   "source": [
    "store_df.groupby('Parking').describe().T"
   ]
  },
  {
   "cell_type": "code",
   "execution_count": null,
   "metadata": {},
   "outputs": [],
   "source": [
    "# Boxplots using Seaborn"
   ]
  },
  {
   "cell_type": "code",
   "execution_count": null,
   "metadata": {},
   "outputs": [],
   "source": [
    "import seaborn as sns"
   ]
  },
  {
   "cell_type": "code",
   "execution_count": null,
   "metadata": {},
   "outputs": [],
   "source": [
    "sns.boxplot(x='StoreSales',y='Parking', data=store_df)"
   ]
  },
  {
   "cell_type": "code",
   "execution_count": null,
   "metadata": {},
   "outputs": [],
   "source": [
    "sns.boxplot(x='Parking',y='StoreSales', data=store_df)"
   ]
  },
  {
   "cell_type": "code",
   "execution_count": null,
   "metadata": {},
   "outputs": [],
   "source": []
  }
 ],
 "metadata": {
  "kernelspec": {
   "display_name": "Python 3",
   "language": "python",
   "name": "python3"
  },
  "language_info": {
   "codemirror_mode": {
    "name": "ipython",
    "version": 3
   },
   "file_extension": ".py",
   "mimetype": "text/x-python",
   "name": "python",
   "nbconvert_exporter": "python",
   "pygments_lexer": "ipython3",
   "version": "3.9.13"
  },
  "widgets": {
   "state": {},
   "version": "1.1.2"
  }
 },
 "nbformat": 4,
 "nbformat_minor": 2
}
